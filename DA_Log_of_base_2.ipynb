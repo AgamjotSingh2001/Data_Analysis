{
 "cells": [
  {
   "cell_type": "code",
   "execution_count": 6,
   "id": "50ff1e0e",
   "metadata": {},
   "outputs": [
    {
     "name": "stdout",
     "output_type": "stream",
     "text": [
      "Enter a number : 8\n",
      "Log base 2 of 8 is: 3.00\n"
     ]
    }
   ],
   "source": [
    "def log_base_2(x):\n",
    "    if x <= 0:\n",
    "        raise ValueError(\"Input must be a positive number\")\n",
    "    result = 0\n",
    "    while x > 1:\n",
    "        x /= 2\n",
    "        result += 1\n",
    "    return result\n",
    "\n",
    "# Example usage:\n",
    "number = int(input(\"Enter a number : \"))  # The number you want to find the base-2 logarithm of\n",
    "result = log_base_2(number)\n",
    "print(f\"Log base 2 of {number} is: {result:.2f}\")\n"
   ]
  },
  {
   "cell_type": "code",
   "execution_count": 12,
   "id": "0467ccac",
   "metadata": {},
   "outputs": [
    {
     "name": "stdout",
     "output_type": "stream",
     "text": [
      "Enter a number : 7\n",
      "Log base 2 of 7 is: 2.75\n"
     ]
    }
   ],
   "source": [
    "def log_base_2(x):\n",
    "    if x <= 0:\n",
    "        raise ValueError(\"Input must be a positive number\")\n",
    "    \n",
    "    result = 0\n",
    "    fraction = 0.5\n",
    "    \n",
    "    # Calculate the integer part of the base-2 logarithm\n",
    "    while x >= 2:\n",
    "        x /= 2\n",
    "        result += 1\n",
    "    \n",
    "    # Calculate the fractional part of the base-2 logarithm\n",
    "    for i in range(2):\n",
    "        x *= x\n",
    "        if x >= 2:\n",
    "            result += fraction\n",
    "            x /= 2\n",
    "        fraction /= 2\n",
    "    \n",
    "    return round(result, 2)\n",
    "\n",
    "# Example usage:\n",
    "number = int(input(\"Enter a number : \"))  # The number you want to find the base-2 logarithm of\n",
    "result = log_base_2(number)\n",
    "print(f\"Log base 2 of {number} is: {result}\")\n"
   ]
  }
 ],
 "metadata": {
  "kernelspec": {
   "display_name": "Python 3 (ipykernel)",
   "language": "python",
   "name": "python3"
  },
  "language_info": {
   "codemirror_mode": {
    "name": "ipython",
    "version": 3
   },
   "file_extension": ".py",
   "mimetype": "text/x-python",
   "name": "python",
   "nbconvert_exporter": "python",
   "pygments_lexer": "ipython3",
   "version": "3.11.4"
  }
 },
 "nbformat": 4,
 "nbformat_minor": 5
}
