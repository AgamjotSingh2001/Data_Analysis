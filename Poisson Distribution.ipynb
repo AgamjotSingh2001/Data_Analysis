{
 "cells": [
  {
   "cell_type": "code",
   "execution_count": 1,
   "id": "ff6bbd34",
   "metadata": {},
   "outputs": [],
   "source": [
    "from scipy.stats import poisson\n",
    "mu=3"
   ]
  },
  {
   "cell_type": "raw",
   "id": "417f424d",
   "metadata": {},
   "source": [
    "# A life insurance salesman sells on the average 3 life insurances policies per week. Use Poissons law to calculate the probability "
   ]
  },
  {
   "cell_type": "code",
   "execution_count": 4,
   "id": "0ae8f372",
   "metadata": {},
   "outputs": [
    {
     "name": "stdout",
     "output_type": "stream",
     "text": [
      "Probabaility that he will sell some policies  0.950212931632136\n"
     ]
    }
   ],
   "source": [
    "#a. In a given week he will sell some policies\n",
    "print(\"Probabaility that he will sell some policies \", 1-poisson.pmf(k=0,mu=mu))"
   ]
  },
  {
   "cell_type": "code",
   "execution_count": 7,
   "id": "e3722ab4",
   "metadata": {},
   "outputs": [
    {
     "name": "stdout",
     "output_type": "stream",
     "text": [
      "Probabaility that he will sell some policies  0.6161149710523164\n"
     ]
    }
   ],
   "source": [
    "#b. In a given week, he will sell between 2 and 5 policies\n",
    "print(\"Probabaility that he will sell between 2 and 5 policies \",sum(poisson.pmf(k=[2,3,4],mu=mu)))"
   ]
  },
  {
   "cell_type": "code",
   "execution_count": 8,
   "id": "da1093cd",
   "metadata": {},
   "outputs": [
    {
     "name": "stdout",
     "output_type": "stream",
     "text": [
      "Probabaility that he will sell  policies on given day 0.3292869816564159\n"
     ]
    }
   ],
   "source": [
    "#Assuming that per week, there are '5' working days, what is the probability that on a given day, he will sell one policy?\n",
    "print(\"Probabaility that he will sell  policies on given day\",poisson.pmf(k=1,mu=3/5))"
   ]
  },
  {
   "cell_type": "code",
   "execution_count": 18,
   "id": "c6f932bc",
   "metadata": {},
   "outputs": [
    {
     "name": "stdout",
     "output_type": "stream",
     "text": [
      "Probabaility that he will sell 3 policies a week  0.22404180765538775\n"
     ]
    }
   ],
   "source": [
    "print(\"Probabaility that he will sell 3 policies a week \",poisson.pmf(k=3,mu=mu))"
   ]
  },
  {
   "cell_type": "code",
   "execution_count": null,
   "id": "317d51f9",
   "metadata": {},
   "outputs": [],
   "source": []
  }
 ],
 "metadata": {
  "kernelspec": {
   "display_name": "Python 3 (ipykernel)",
   "language": "python",
   "name": "python3"
  },
  "language_info": {
   "codemirror_mode": {
    "name": "ipython",
    "version": 3
   },
   "file_extension": ".py",
   "mimetype": "text/x-python",
   "name": "python",
   "nbconvert_exporter": "python",
   "pygments_lexer": "ipython3",
   "version": "3.11.4"
  }
 },
 "nbformat": 4,
 "nbformat_minor": 5
}
