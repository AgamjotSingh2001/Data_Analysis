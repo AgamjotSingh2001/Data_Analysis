{
 "cells": [
  {
   "cell_type": "code",
   "execution_count": 1,
   "id": "b6263117",
   "metadata": {},
   "outputs": [],
   "source": [
    "import pandas as pd\n",
    "import numpy as np\n",
    "import matplotlib.pyplot as plt\n",
    "import seaborn as sns"
   ]
  },
  {
   "cell_type": "code",
   "execution_count": 2,
   "id": "9bfacada",
   "metadata": {},
   "outputs": [],
   "source": [
    "df08=pd.read_csv('all_alpha_08.csv')\n",
    "df18=pd.read_csv('all_alpha_18.csv')"
   ]
  },
  {
   "cell_type": "code",
   "execution_count": 3,
   "id": "6ab57958",
   "metadata": {},
   "outputs": [
    {
     "data": {
      "text/plain": [
       "Model                     0\n",
       "Displ                     0\n",
       "Cyl                     199\n",
       "Trans                   199\n",
       "Drive                    93\n",
       "Fuel                      0\n",
       "Sales Area                0\n",
       "Stnd                      0\n",
       "Underhood ID              0\n",
       "Veh Class                 0\n",
       "Air Pollution Score       0\n",
       "FE Calc Appr            199\n",
       "City MPG                199\n",
       "Hwy MPG                 199\n",
       "Cmb MPG                 199\n",
       "Unadj Cmb MPG           199\n",
       "Greenhouse Gas Score    199\n",
       "SmartWay                  0\n",
       "dtype: int64"
      ]
     },
     "execution_count": 3,
     "metadata": {},
     "output_type": "execute_result"
    }
   ],
   "source": [
    "df08.isnull().sum()"
   ]
  },
  {
   "cell_type": "code",
   "execution_count": 11,
   "id": "5ab46289",
   "metadata": {},
   "outputs": [
    {
     "data": {
      "text/plain": [
       "(2404, 18)"
      ]
     },
     "execution_count": 11,
     "metadata": {},
     "output_type": "execute_result"
    }
   ],
   "source": [
    "df08.shape"
   ]
  },
  {
   "cell_type": "code",
   "execution_count": 10,
   "id": "2b9bb308",
   "metadata": {},
   "outputs": [
    {
     "data": {
      "text/plain": [
       "(1611, 18)"
      ]
     },
     "execution_count": 10,
     "metadata": {},
     "output_type": "execute_result"
    }
   ],
   "source": [
    "df18.shape"
   ]
  },
  {
   "cell_type": "code",
   "execution_count": 6,
   "id": "c2473e75",
   "metadata": {},
   "outputs": [],
   "source": [
    "dfcl08=pd.read_csv('clean_08.csv')\n",
    "dfcl18=pd.read_csv('clean_18.csv')"
   ]
  },
  {
   "cell_type": "code",
   "execution_count": 7,
   "id": "40424265",
   "metadata": {},
   "outputs": [
    {
     "data": {
      "text/plain": [
       "<bound method DataFrame.info of                   model  displ  cyl    trans drive      fuel    veh_class  \\\n",
       "0             ACURA MDX    3.7    6  Auto-S5   4WD  Gasoline          SUV   \n",
       "1             ACURA RDX    2.3    4  Auto-S5   4WD  Gasoline          SUV   \n",
       "2              ACURA RL    3.5    6  Auto-S5   4WD  Gasoline  midsize car   \n",
       "3              ACURA TL    3.2    6  Auto-S5   2WD  Gasoline  midsize car   \n",
       "4              ACURA TL    3.5    6  Auto-S5   2WD  Gasoline  midsize car   \n",
       "..                  ...    ...  ...      ...   ...       ...          ...   \n",
       "982         VOLVO XC 90    3.2    6  Auto-S6   2WD  Gasoline          SUV   \n",
       "983         VOLVO XC 90    3.2    6  Auto-S6   4WD  Gasoline          SUV   \n",
       "984         VOLVO XC 90    4.4    8  Auto-S6   4WD  Gasoline          SUV   \n",
       "985  MERCEDES-BENZ C300    3.0    6  Auto-L7   2WD   ethanol    small car   \n",
       "986  MERCEDES-BENZ C300    3.0    6  Auto-L7   2WD       gas    small car   \n",
       "\n",
       "     air_pollution_score  city_mpg  hwy_mpg  cmb_mpg  greenhouse_gas_score  \\\n",
       "0                    7.0      15.0     20.0     17.0                     4   \n",
       "1                    7.0      17.0     22.0     19.0                     5   \n",
       "2                    7.0      16.0     24.0     19.0                     5   \n",
       "3                    7.0      18.0     26.0     21.0                     6   \n",
       "4                    7.0      17.0     26.0     20.0                     6   \n",
       "..                   ...       ...      ...      ...                   ...   \n",
       "982                  7.0      14.0     20.0     16.0                     4   \n",
       "983                  7.0      14.0     20.0     16.0                     4   \n",
       "984                  7.0      13.0     19.0     15.0                     3   \n",
       "985                  6.0      13.0     19.0     15.0                     7   \n",
       "986                  4.0      18.0     25.0     21.0                     6   \n",
       "\n",
       "    smartway  \n",
       "0         no  \n",
       "1         no  \n",
       "2         no  \n",
       "3        yes  \n",
       "4        yes  \n",
       "..       ...  \n",
       "982       no  \n",
       "983       no  \n",
       "984       no  \n",
       "985       no  \n",
       "986       no  \n",
       "\n",
       "[987 rows x 13 columns]>"
      ]
     },
     "execution_count": 7,
     "metadata": {},
     "output_type": "execute_result"
    }
   ],
   "source": [
    "dfcl08.info"
   ]
  },
  {
   "cell_type": "code",
   "execution_count": 8,
   "id": "76eb991c",
   "metadata": {},
   "outputs": [
    {
     "data": {
      "text/plain": [
       "<bound method DataFrame.info of                   model  displ  cyl       trans drive         fuel  \\\n",
       "0             ACURA RDX    3.5    6  SemiAuto-6   2WD     Gasoline   \n",
       "1             ACURA RDX    3.5    6  SemiAuto-6   4WD     Gasoline   \n",
       "2             ACURA TLX    2.4    4       AMS-8   2WD     Gasoline   \n",
       "3             ACURA TLX    3.5    6  SemiAuto-9   2WD     Gasoline   \n",
       "4             ACURA TLX    3.5    6  SemiAuto-9   4WD     Gasoline   \n",
       "..                  ...    ...  ...         ...   ...          ...   \n",
       "827  TOYOTA Sequoia FFV    5.7    8  SemiAuto-6   4WD          Gas   \n",
       "828   TOYOTA Tundra FFV    5.7    8  SemiAuto-6   4WD          Gas   \n",
       "829           VOLVO S90    2.0    4  SemiAuto-8   4WD  Electricity   \n",
       "830         VOLVO XC 60    2.0    4  SemiAuto-8   4WD  Electricity   \n",
       "831         VOLVO XC 90    2.0    4  SemiAuto-8   4WD  Electricity   \n",
       "\n",
       "        veh_class  air_pollution_score  city_mpg  hwy_mpg  cmb_mpg  \\\n",
       "0       small SUV                  3.0      20.0     28.0     23.0   \n",
       "1       small SUV                  3.0      19.0     27.0     22.0   \n",
       "2       small car                  3.0      23.0     33.0     27.0   \n",
       "3       small car                  3.0      20.0     32.0     24.0   \n",
       "4       small car                  3.0      21.0     30.0     24.0   \n",
       "..            ...                  ...       ...      ...      ...   \n",
       "827  standard SUV                  5.0      13.0     17.0     14.0   \n",
       "828        pickup                  5.0      13.0     17.0     15.0   \n",
       "829   midsize car                  7.0      70.0     72.0     71.0   \n",
       "830     small SUV                  7.0      60.0     58.0     59.0   \n",
       "831  standard SUV                  7.0      63.0     61.0     62.0   \n",
       "\n",
       "     greenhouse_gas_score smartway  \n",
       "0                       5       No  \n",
       "1                       4       No  \n",
       "2                       6       No  \n",
       "3                       5       No  \n",
       "4                       5       No  \n",
       "..                    ...      ...  \n",
       "827                     1       No  \n",
       "828                     2       No  \n",
       "829                    10    Elite  \n",
       "830                    10    Elite  \n",
       "831                    10    Elite  \n",
       "\n",
       "[832 rows x 13 columns]>"
      ]
     },
     "execution_count": 8,
     "metadata": {},
     "output_type": "execute_result"
    }
   ],
   "source": [
    "dfcl18.info"
   ]
  },
  {
   "cell_type": "code",
   "execution_count": null,
   "id": "b788731b",
   "metadata": {},
   "outputs": [],
   "source": []
  }
 ],
 "metadata": {
  "kernelspec": {
   "display_name": "Python 3 (ipykernel)",
   "language": "python",
   "name": "python3"
  },
  "language_info": {
   "codemirror_mode": {
    "name": "ipython",
    "version": 3
   },
   "file_extension": ".py",
   "mimetype": "text/x-python",
   "name": "python",
   "nbconvert_exporter": "python",
   "pygments_lexer": "ipython3",
   "version": "3.11.4"
  }
 },
 "nbformat": 4,
 "nbformat_minor": 5
}
