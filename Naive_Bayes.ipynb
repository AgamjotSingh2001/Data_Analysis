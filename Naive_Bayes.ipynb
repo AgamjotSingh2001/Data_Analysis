{
 "cells": [
  {
   "cell_type": "code",
   "execution_count": 3,
   "id": "82309289",
   "metadata": {},
   "outputs": [],
   "source": [
    "import pandas as pd\n",
    "import numpy as np\n",
    "import matplotlib.pyplot as plt\n",
    "from sklearn.datasets import make_classification"
   ]
  },
  {
   "cell_type": "code",
   "execution_count": 11,
   "id": "d0eab959",
   "metadata": {},
   "outputs": [
    {
     "name": "stdout",
     "output_type": "stream",
     "text": [
      "[[ 1.34076287 -1.21573796 -0.06929943  0.84542643 -0.76549575 -1.31889683]\n",
      " [ 0.49869261 -0.23490061 -0.43071779  0.75949359 -0.42755223 -1.10296955]\n",
      " [-0.83870221  1.11953787 -0.62576716 -0.92699247  0.24284264  0.75537433]\n",
      " ...\n",
      " [ 1.44604798 -1.04922808 -0.56296398 -0.15364732 -0.99780991  0.81598915]\n",
      " [ 0.41410711 -0.65405841  0.49773464 -2.45291986 -0.05332349 -0.04538256]\n",
      " [ 0.92293213 -0.79973894 -0.11690007 -1.33230529 -0.55134594 -0.37302019]]\n",
      "[1 0 2 0 1 1 2 2 1 0 1 2 1 0 0 0 0 1 1 2 0 0 0 1 1 2 1 0 0 0 2 2 2 2 1 0 2\n",
      " 2 0 1 2 0 0 0 2 1 2 1 1 0 2 2 2 1 2 2 1 2 0 0 1 2 1 2 0 2 2 2 0 0 1 1 1 1\n",
      " 2 2 1 1 2 1 1 2 1 2 0 1 2 1 2 0 0 1 0 1 1 0 0 2 0 1 2 2 1 0 0 1 2 1 1 0 0\n",
      " 1 0 0 0 1 2 0 1 2 1 2 0 2 1 0 0 1 2 2 0 2 1 0 2 1 1 1 0 0 2 2 1 2 2 0 0 1\n",
      " 1 0 0 1 0 0 1 2 0 1 0 2 1 0 0 0 1 1 2 2 1 0 2 1 0 2 2 0 2 2 1 0 1 1 1 0 2\n",
      " 0 2 0 1 1 2 2 2 2 1 0 1 1 0 1 1 1 0 0 0 2 2 1 2 0 1 0 2 2 0 1 2 2 0 1 0 1\n",
      " 1 2 2 0 1 1 0 2 1 0 1 2 1 1 1 1 0 0 2 2 1 2 2 2 0 2 1 1 0 1 2 1 0 0 1 2 0\n",
      " 2 1 1 1 1 1 2 1 0 2 1 1 1 2 0 0 2 2 0 0 1 1 2 0 0 1 0 0 0 0 2 1 2 2 0 0 0\n",
      " 2 1 2 2 1 0 0 1 2 1 0 2 2 0 0 1 1 0 2 0 1 2 0 0 1 1 0 0 2 0 1 1 0 2 2 2 2\n",
      " 0 0 2 2 2 2 0 2 0 1 0 2 2 2 0 2 2 2 2 2 2 2 2 2 2 1 1 1 2 0 0 1 2 2 1 0 2\n",
      " 1 2 1 0 0 1 1 0 0 0 1 0 1 1 2 1 0 2 0 1 2 1 1 1 0 2 1 0 1 2 2 0 1 2 2 2 2\n",
      " 1 0 0 0 2 0 0 0 1 1 0 0 1 2 2 2 1 1 1 1 2 2 0 2 2 1 0 2 2 2 1 1 2 2 0 2 2\n",
      " 2 0 0 0 0 1 2 0 0 1 1 2 1 0 1 1 0 2 0 2 0 2 0 1 1 0 0 2 1 0 2 2 0 1 2 2 1\n",
      " 0 2 0 1 1 0 2 1 1 1 1 1 2 1 1 0 1 1 1 0 2 0 1 2 0 1 1 2 2 2 2 1 0 1 2 1 2\n",
      " 1 1 2 1 1 0 0 2 2 1 0 0 2 2 0 1 1 0 1 1 2 0 1 2 2 1 2 1 2 2 0 1 2 2 2 1 1\n",
      " 2 2 1 0 0 0 2 1 1 2 0 0 2 0 1 0 2 1 0 2 2 2 1 0 1 0 2 2 2 2 1 0 1 1 1 2 1\n",
      " 1 1 1 0 0 0 0 2 1 2 2 0 2 0 0 1 0 2 0 0 1 1 0 0 1 0 0 0 1 1 2 2 0 1 0 2 0\n",
      " 1 1 2 0 0 2 0 0 2 2 1 2 1 0 1 1 2 1 0 2 2 2 2 2 1 0 1 0 1 0 2 0 1 0 0 0 1\n",
      " 0 0 2 2 1 2 1 2 1 0 0 1 0 1 1 1 2 2 1 1 1 0 2 0 2 2 2 0 2 2 0 1 1 2 1 0 1\n",
      " 1 2 1 1 0 0 0 0 0 0 0 2 2 1 1 0 0 0 0 0 1 1 2 1 2 1 0 0 2 1 0 0 1 1 0 1 0\n",
      " 2 2 0 2 2 1 0 1 2 2 0 1 1 1 0 0 2 0 2 2 2 2 1 0 0 0 1 0 2 1 1 0 0 2 2 0 0\n",
      " 2 0 1 0 2 2 1 0 0 2 1 1 0 1 0 2 2 2 2 0 1 2 0]\n"
     ]
    }
   ],
   "source": [
    "X,y=make_classification(\n",
    "n_features=6,\n",
    "n_classes=3,\n",
    "n_samples=800,\n",
    "n_informative=2,\n",
    "random_state=1,\n",
    "n_clusters_per_class=1,\n",
    ")\n",
    "print(X)\n",
    "print(y)\n"
   ]
  },
  {
   "cell_type": "code",
   "execution_count": 15,
   "id": "a9c84fec",
   "metadata": {},
   "outputs": [
    {
     "data": {
      "image/png": "[encoded data removed]",
      "text/plain": [
       "<Figure size 640x480 with 1 Axes>"
      ]
     },
     "metadata": {},
     "output_type": "display_data"
    }
   ],
   "source": [
    "plt.scatter(X[:,0],X[:,1],c=y,marker='+')\n",
    "plt.show()"
   ]
  },
  {
   "cell_type": "code",
   "execution_count": 16,
   "id": "fb85a499",
   "metadata": {},
   "outputs": [],
   "source": [
    "from sklearn.model_selection import train_test_split\n"
   ]
  },
  {
   "cell_type": "code",
   "execution_count": 17,
   "id": "7dbcac60",
   "metadata": {},
   "outputs": [],
   "source": [
    "X_train,X_test,y_train,y_test=train_test_split(X,y,test_size=0.33,random_state=125)"
   ]
  },
  {
   "cell_type": "code",
   "execution_count": 18,
   "id": "ce7b4002",
   "metadata": {},
   "outputs": [],
   "source": [
    "from sklearn.naive_bayes import GaussianNB"
   ]
  },
  {
   "cell_type": "code",
   "execution_count": 19,
   "id": "847c528c",
   "metadata": {},
   "outputs": [
    {
     "data": {
      "text/html": [
       "<style>#sk-container-id-1 {color: black;}#sk-container-id-1 pre{padding: 0;}#sk-container-id-1 div.sk-toggleable {background-color: white;}#sk-container-id-1 label.sk-toggleable__label {cursor: pointer;display: block;width: 100%;margin-bottom: 0;padding: 0.3em;box-sizing: border-box;text-align: center;}#sk-container-id-1 label.sk-toggleable__label-arrow:before {content: \"▸\";float: left;margin-right: 0.25em;color: #696969;}#sk-container-id-1 label.sk-toggleable__label-arrow:hover:before {color: black;}#sk-container-id-1 div.sk-estimator:hover label.sk-toggleable__label-arrow:before {color: black;}#sk-container-id-1 div.sk-toggleable__content {max-height: 0;max-width: 0;overflow: hidden;text-align: left;background-color: #f0f8ff;}#sk-container-id-1 div.sk-toggleable__content pre {margin: 0.2em;color: black;border-radius: 0.25em;background-color: #f0f8ff;}#sk-container-id-1 input.sk-toggleable__control:checked~div.sk-toggleable__content {max-height: 200px;max-width: 100%;overflow: auto;}#sk-container-id-1 input.sk-toggleable__control:checked~label.sk-toggleable__label-arrow:before {content: \"▾\";}#sk-container-id-1 div.sk-estimator input.sk-toggleable__control:checked~label.sk-toggleable__label {background-color: #d4ebff;}#sk-container-id-1 div.sk-label input.sk-toggleable__control:checked~label.sk-toggleable__label {background-color: #d4ebff;}#sk-container-id-1 input.sk-hidden--visually {border: 0;clip: rect(1px 1px 1px 1px);clip: rect(1px, 1px, 1px, 1px);height: 1px;margin: -1px;overflow: hidden;padding: 0;position: absolute;width: 1px;}#sk-container-id-1 div.sk-estimator {font-family: monospace;background-color: #f0f8ff;border: 1px dotted black;border-radius: 0.25em;box-sizing: border-box;margin-bottom: 0.5em;}#sk-container-id-1 div.sk-estimator:hover {background-color: #d4ebff;}#sk-container-id-1 div.sk-parallel-item::after {content: \"\";width: 100%;border-bottom: 1px solid gray;flex-grow: 1;}#sk-container-id-1 div.sk-label:hover label.sk-toggleable__label {background-color: #d4ebff;}#sk-container-id-1 div.sk-serial::before {content: \"\";position: absolute;border-left: 1px solid gray;box-sizing: border-box;top: 0;bottom: 0;left: 50%;z-index: 0;}#sk-container-id-1 div.sk-serial {display: flex;flex-direction: column;align-items: center;background-color: white;padding-right: 0.2em;padding-left: 0.2em;position: relative;}#sk-container-id-1 div.sk-item {position: relative;z-index: 1;}#sk-container-id-1 div.sk-parallel {display: flex;align-items: stretch;justify-content: center;background-color: white;position: relative;}#sk-container-id-1 div.sk-item::before, #sk-container-id-1 div.sk-parallel-item::before {content: \"\";position: absolute;border-left: 1px solid gray;box-sizing: border-box;top: 0;bottom: 0;left: 50%;z-index: -1;}#sk-container-id-1 div.sk-parallel-item {display: flex;flex-direction: column;z-index: 1;position: relative;background-color: white;}#sk-container-id-1 div.sk-parallel-item:first-child::after {align-self: flex-end;width: 50%;}#sk-container-id-1 div.sk-parallel-item:last-child::after {align-self: flex-start;width: 50%;}#sk-container-id-1 div.sk-parallel-item:only-child::after {width: 0;}#sk-container-id-1 div.sk-dashed-wrapped {border: 1px dashed gray;margin: 0 0.4em 0.5em 0.4em;box-sizing: border-box;padding-bottom: 0.4em;background-color: white;}#sk-container-id-1 div.sk-label label {font-family: monospace;font-weight: bold;display: inline-block;line-height: 1.2em;}#sk-container-id-1 div.sk-label-container {text-align: center;}#sk-container-id-1 div.sk-container {/* jupyter's `normalize.less` sets `[hidden] { display: none; }` but bootstrap.min.css set `[hidden] { display: none !important; }` so we also need the `!important` here to be able to override the default hidden behavior on the sphinx rendered scikit-learn.org. See: https://github.com/scikit-learn/scikit-learn/issues/21755 */display: inline-block !important;position: relative;}#sk-container-id-1 div.sk-text-repr-fallback {display: none;}</style><div id=\"sk-container-id-1\" class=\"sk-top-container\"><div class=\"sk-text-repr-fallback\"><pre>GaussianNB()</pre><b>In a Jupyter environment, please rerun this cell to show the HTML representation or trust the notebook. <br />On GitHub, the HTML representation is unable to render, please try loading this page with nbviewer.org.</b></div><div class=\"sk-container\" hidden><div class=\"sk-item\"><div class=\"sk-estimator sk-toggleable\"><input class=\"sk-toggleable__control sk-hidden--visually\" id=\"sk-estimator-id-1\" type=\"checkbox\" checked><label for=\"sk-estimator-id-1\" class=\"sk-toggleable__label sk-toggleable__label-arrow\">GaussianNB</label><div class=\"sk-toggleable__content\"><pre>GaussianNB()</pre></div></div></div></div></div>"
      ],
      "text/plain": [
       "GaussianNB()"
      ]
     },
     "execution_count": 19,
     "metadata": {},
     "output_type": "execute_result"
    }
   ],
   "source": [
    "model=GaussianNB()\n",
    "model.fit(X_train,y_train)"
   ]
  },
  {
   "cell_type": "code",
   "execution_count": 25,
   "id": "754faa5a",
   "metadata": {},
   "outputs": [
    {
     "name": "stdout",
     "output_type": "stream",
     "text": [
      "Actual value: 0\n",
      "Predicted value 0\n"
     ]
    }
   ],
   "source": [
    "predicted=model.predict([X_test[6]])\n",
    "print(\"Actual value:\",y_test[6])\n",
    "print(\"Predicted value\",predicted[0])\n",
    "\n",
    "y_pred=model.predict(X_test)"
   ]
  },
  {
   "cell_type": "code",
   "execution_count": 26,
   "id": "ef287f17",
   "metadata": {},
   "outputs": [],
   "source": [
    "#Now check model accuracy\n",
    "from sklearn.metrics import *"
   ]
  },
  {
   "cell_type": "code",
   "execution_count": 27,
   "id": "a2fa2c5a",
   "metadata": {},
   "outputs": [
    {
     "name": "stdout",
     "output_type": "stream",
     "text": [
      "Accuracy: 0.8484848484848485\n",
      "F2 Score: 0.8491119695890328\n"
     ]
    }
   ],
   "source": [
    "accuracy=accuracy_score(y_pred,y_test)\n",
    "f1=f1_score(y_pred,y_test, average=\"weighted\")\n",
    "print(\"Accuracy:\",accuracy)\n",
    "print(\"F2 Score:\",f1)"
   ]
  },
  {
   "cell_type": "code",
   "execution_count": null,
   "id": "fb56d46e",
   "metadata": {},
   "outputs": [],
   "source": []
  }
 ],
 "metadata": {
  "kernelspec": {
   "display_name": "Python 3 (ipykernel)",
   "language": "python",
   "name": "python3"
  },
  "language_info": {
   "codemirror_mode": {
    "name": "ipython",
    "version": 3
   },
   "file_extension": ".py",
   "mimetype": "text/x-python",
   "name": "python",
   "nbconvert_exporter": "python",
   "pygments_lexer": "ipython3",
   "version": "3.11.4"
  }
 },
 "nbformat": 4,
 "nbformat_minor": 5
}
