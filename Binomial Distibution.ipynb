{
 "cells": [
  {
   "cell_type": "code",
   "execution_count": 3,
   "id": "ee07870c",
   "metadata": {},
   "outputs": [],
   "source": [
    "from scipy.stats import binom"
   ]
  },
  {
   "cell_type": "raw",
   "id": "08fd9566",
   "metadata": {},
   "source": [
    "# Hospital records show that of patients suffering from a specific disese, 75% die of it. What is the probability that of six randomly selected Patients, four will recover"
   ]
  },
  {
   "cell_type": "code",
   "execution_count": 7,
   "id": "3b85f73c",
   "metadata": {},
   "outputs": [
    {
     "name": "stdout",
     "output_type": "stream",
     "text": [
      "probability that of six randomly selected patients, four will recover : 0.03295898437499997\n"
     ]
    }
   ],
   "source": [
    "n=6\n",
    "k=4\n",
    "p=0.25\n",
    "probab=binom.pmf(k,n,p)\n",
    "print(\"probability that of six randomly selected patients, four will recover :\",probab)"
   ]
  },
  {
   "cell_type": "code",
   "execution_count": 8,
   "id": "3e276742",
   "metadata": {},
   "outputs": [
    {
     "name": "stdout",
     "output_type": "stream",
     "text": [
      "Probability of more than 2 hits: 0.1647949218749999\n"
     ]
    }
   ],
   "source": [
    "print(\"Probability of more than 2 hits:\",binom.pmf(k=3,n=n,p=p)+binom.pmf(k=4,n=n,p=p))"
   ]
  },
  {
   "cell_type": "code",
   "execution_count": 9,
   "id": "dbb6c5da",
   "metadata": {},
   "outputs": [
    {
     "name": "stdout",
     "output_type": "stream",
     "text": [
      "Probability of atleast 3 misses: 0.533935546875\n"
     ]
    }
   ],
   "source": [
    "print(\"Probability of atleast 3 misses:\",binom.pmf(k=0,n=n,p=p)+binom.pmf(k=1,n=n,p=p))"
   ]
  },
  {
   "cell_type": "code",
   "execution_count": 13,
   "id": "09f70339",
   "metadata": {},
   "outputs": [
    {
     "name": "stdout",
     "output_type": "stream",
     "text": [
      "Probability of atleast 3 misses: 0.7119140625\n"
     ]
    }
   ],
   "source": [
    "print(\"Probability of atleast 3 misses:\",binom.cdf(k=0,n=n,p=p)+binom.cdf(k=1,n=n,p=p))"
   ]
  },
  {
   "cell_type": "raw",
   "id": "956d2569",
   "metadata": {},
   "source": [
    "# Computing the binomial distribution without scipy librabry"
   ]
  },
  {
   "cell_type": "code",
   "execution_count": 19,
   "id": "3435a06c",
   "metadata": {},
   "outputs": [
    {
     "name": "stdout",
     "output_type": "stream",
     "text": [
      "0.39700715999999986\n",
      "39.700715999999986\n"
     ]
    }
   ],
   "source": [
    "from scipy.special import comb\n",
    "import seaborn as sns\n",
    "import matplotlib.pyplot as plt\n",
    "n=4\n",
    "k=1\n",
    "p=0.33\n",
    "\n",
    "p_binomial = comb(n,k)*p**k*(1-p)**(n-k)\n",
    "result = p_binomial*100\n",
    "print(p_binomial)\n",
    "print(result)"
   ]
  },
  {
   "cell_type": "code",
   "execution_count": null,
   "id": "348bc8cc",
   "metadata": {},
   "outputs": [],
   "source": []
  }
 ],
 "metadata": {
  "kernelspec": {
   "display_name": "Python 3 (ipykernel)",
   "language": "python",
   "name": "python3"
  },
  "language_info": {
   "codemirror_mode": {
    "name": "ipython",
    "version": 3
   },
   "file_extension": ".py",
   "mimetype": "text/x-python",
   "name": "python",
   "nbconvert_exporter": "python",
   "pygments_lexer": "ipython3",
   "version": "3.11.4"
  }
 },
 "nbformat": 4,
 "nbformat_minor": 5
}
