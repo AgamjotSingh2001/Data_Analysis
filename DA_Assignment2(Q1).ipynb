{
 "cells": [
  {
   "cell_type": "markdown",
   "id": "d027cae5",
   "metadata": {},
   "source": [
    "Create a data frame with at least 5 columns and 10 rows. There must be some missing\n",
    "values in it. If the integer column contains missing values replace it with some statistical\n",
    "approach. Also, if there is any missing values in String column, drop the rows using some\n",
    "looping function."
   ]
  },
  {
   "cell_type": "code",
   "execution_count": 1,
   "id": "7e4c9ade",
   "metadata": {},
   "outputs": [
    {
     "name": "stdout",
     "output_type": "stream",
     "text": [
      "     Name   Age  Student_Id Address Highest_Qualification\n",
      "0     Tom  20.0           1    Pune                   BSC\n",
      "1  Joseph  21.0           2  Nagpur                 BTECH\n",
      "2   Krish  19.0           3  Mumbai                   MSC\n",
      "3    John  18.0           4   Thane                   NaN\n",
      "4  Vishal  23.0           5  Nashik                   LLB\n",
      "5    Agam  22.0           6   Surat              B.PHARMA\n",
      "6     Raj  19.0           7  Nanded                   NaN\n",
      "7     Ram   NaN           8   Thane              B.PHARMA\n",
      "8     NaN  25.0           9  Nashik                   BSC\n",
      "9  Rajesh  24.0          10     NaN                   llb\n"
     ]
    }
   ],
   "source": [
    "import pandas as pd\n",
    "import numpy as np\n",
    "df=pd.DataFrame( {'Name': ['Tom', 'Joseph', 'Krish', 'John','Vishal','Agam','Raj','Ram',np.NaN,'Rajesh'],\n",
    "                  'Age':[20, 21, 19,18,23,22,19,np.nan,25,24],\n",
    "                 'Student_Id':[1,2,3,4,5,6,7,8,9,10],\n",
    "                 'Address':['Pune','Nagpur','Mumbai','Thane','Nashik','Surat','Nanded','Thane','Nashik',np.NaN],\n",
    "                 'Highest_Qualification':['BSC','BTECH','MSC',np.NaN,'LLB','B.PHARMA',np.NaN,'B.PHARMA','BSC','llb']})\n",
    "print(df)"
   ]
  },
  {
   "cell_type": "code",
   "execution_count": 2,
   "id": "4a08138a",
   "metadata": {},
   "outputs": [
    {
     "name": "stdout",
     "output_type": "stream",
     "text": [
      "<class 'pandas.core.frame.DataFrame'>\n",
      "RangeIndex: 10 entries, 0 to 9\n",
      "Data columns (total 5 columns):\n",
      " #   Column                 Non-Null Count  Dtype  \n",
      "---  ------                 --------------  -----  \n",
      " 0   Name                   9 non-null      object \n",
      " 1   Age                    9 non-null      float64\n",
      " 2   Student_Id             10 non-null     int64  \n",
      " 3   Address                9 non-null      object \n",
      " 4   Highest_Qualification  8 non-null      object \n",
      "dtypes: float64(1), int64(1), object(3)\n",
      "memory usage: 532.0+ bytes\n"
     ]
    }
   ],
   "source": [
    "df.info()\n",
    "df.set_index('Student_Id',inplace=True)"
   ]
  },
  {
   "cell_type": "code",
   "execution_count": 3,
   "id": "fdf50069",
   "metadata": {},
   "outputs": [
    {
     "data": {
      "text/plain": [
       "Name                     1\n",
       "Age                      1\n",
       "Address                  1\n",
       "Highest_Qualification    2\n",
       "dtype: int64"
      ]
     },
     "execution_count": 3,
     "metadata": {},
     "output_type": "execute_result"
    }
   ],
   "source": [
    "df.isnull().sum()"
   ]
  },
  {
   "cell_type": "code",
   "execution_count": 4,
   "id": "a02430da",
   "metadata": {},
   "outputs": [
    {
     "data": {
      "text/html": [
       "<div>\n",
       "<style scoped>\n",
       "    .dataframe tbody tr th:only-of-type {\n",
       "        vertical-align: middle;\n",
       "    }\n",
       "\n",
       "    .dataframe tbody tr th {\n",
       "        vertical-align: top;\n",
       "    }\n",
       "\n",
       "    .dataframe thead th {\n",
       "        text-align: right;\n",
       "    }\n",
       "</style>\n",
       "<table border=\"1\" class=\"dataframe\">\n",
       "  <thead>\n",
       "    <tr style=\"text-align: right;\">\n",
       "      <th></th>\n",
       "      <th>Name</th>\n",
       "      <th>Age</th>\n",
       "      <th>Address</th>\n",
       "      <th>Highest_Qualification</th>\n",
       "    </tr>\n",
       "    <tr>\n",
       "      <th>Student_Id</th>\n",
       "      <th></th>\n",
       "      <th></th>\n",
       "      <th></th>\n",
       "      <th></th>\n",
       "    </tr>\n",
       "  </thead>\n",
       "  <tbody>\n",
       "    <tr>\n",
       "      <th>1</th>\n",
       "      <td>Tom</td>\n",
       "      <td>20.0</td>\n",
       "      <td>Pune</td>\n",
       "      <td>BSC</td>\n",
       "    </tr>\n",
       "    <tr>\n",
       "      <th>2</th>\n",
       "      <td>Joseph</td>\n",
       "      <td>21.0</td>\n",
       "      <td>Nagpur</td>\n",
       "      <td>BTECH</td>\n",
       "    </tr>\n",
       "    <tr>\n",
       "      <th>3</th>\n",
       "      <td>Krish</td>\n",
       "      <td>19.0</td>\n",
       "      <td>Mumbai</td>\n",
       "      <td>MSC</td>\n",
       "    </tr>\n",
       "    <tr>\n",
       "      <th>4</th>\n",
       "      <td>John</td>\n",
       "      <td>18.0</td>\n",
       "      <td>Thane</td>\n",
       "      <td>NaN</td>\n",
       "    </tr>\n",
       "    <tr>\n",
       "      <th>5</th>\n",
       "      <td>Vishal</td>\n",
       "      <td>23.0</td>\n",
       "      <td>Nashik</td>\n",
       "      <td>LLB</td>\n",
       "    </tr>\n",
       "    <tr>\n",
       "      <th>6</th>\n",
       "      <td>Agam</td>\n",
       "      <td>22.0</td>\n",
       "      <td>Surat</td>\n",
       "      <td>B.PHARMA</td>\n",
       "    </tr>\n",
       "    <tr>\n",
       "      <th>7</th>\n",
       "      <td>Raj</td>\n",
       "      <td>19.0</td>\n",
       "      <td>Nanded</td>\n",
       "      <td>NaN</td>\n",
       "    </tr>\n",
       "    <tr>\n",
       "      <th>8</th>\n",
       "      <td>Ram</td>\n",
       "      <td>21.0</td>\n",
       "      <td>Thane</td>\n",
       "      <td>B.PHARMA</td>\n",
       "    </tr>\n",
       "    <tr>\n",
       "      <th>9</th>\n",
       "      <td>NaN</td>\n",
       "      <td>25.0</td>\n",
       "      <td>Nashik</td>\n",
       "      <td>BSC</td>\n",
       "    </tr>\n",
       "    <tr>\n",
       "      <th>10</th>\n",
       "      <td>Rajesh</td>\n",
       "      <td>24.0</td>\n",
       "      <td>NaN</td>\n",
       "      <td>llb</td>\n",
       "    </tr>\n",
       "  </tbody>\n",
       "</table>\n",
       "</div>"
      ],
      "text/plain": [
       "              Name   Age Address Highest_Qualification\n",
       "Student_Id                                            \n",
       "1              Tom  20.0    Pune                   BSC\n",
       "2           Joseph  21.0  Nagpur                 BTECH\n",
       "3            Krish  19.0  Mumbai                   MSC\n",
       "4             John  18.0   Thane                   NaN\n",
       "5           Vishal  23.0  Nashik                   LLB\n",
       "6             Agam  22.0   Surat              B.PHARMA\n",
       "7              Raj  19.0  Nanded                   NaN\n",
       "8              Ram  21.0   Thane              B.PHARMA\n",
       "9              NaN  25.0  Nashik                   BSC\n",
       "10          Rajesh  24.0     NaN                   llb"
      ]
     },
     "execution_count": 4,
     "metadata": {},
     "output_type": "execute_result"
    }
   ],
   "source": [
    "meanag=df['Age'].median()\n",
    "df.fillna({\n",
    "         'Age':meanag},inplace=True)\n",
    "df"
   ]
  },
  {
   "cell_type": "code",
   "execution_count": 6,
   "id": "9e2e0d0e",
   "metadata": {},
   "outputs": [
    {
     "data": {
      "text/html": [
       "<div>\n",
       "<style scoped>\n",
       "    .dataframe tbody tr th:only-of-type {\n",
       "        vertical-align: middle;\n",
       "    }\n",
       "\n",
       "    .dataframe tbody tr th {\n",
       "        vertical-align: top;\n",
       "    }\n",
       "\n",
       "    .dataframe thead th {\n",
       "        text-align: right;\n",
       "    }\n",
       "</style>\n",
       "<table border=\"1\" class=\"dataframe\">\n",
       "  <thead>\n",
       "    <tr style=\"text-align: right;\">\n",
       "      <th></th>\n",
       "      <th>Name</th>\n",
       "      <th>Age</th>\n",
       "      <th>Address</th>\n",
       "      <th>Highest_Qualification</th>\n",
       "    </tr>\n",
       "    <tr>\n",
       "      <th>Student_Id</th>\n",
       "      <th></th>\n",
       "      <th></th>\n",
       "      <th></th>\n",
       "      <th></th>\n",
       "    </tr>\n",
       "  </thead>\n",
       "  <tbody>\n",
       "    <tr>\n",
       "      <th>1</th>\n",
       "      <td>Tom</td>\n",
       "      <td>20.0</td>\n",
       "      <td>Pune</td>\n",
       "      <td>BSC</td>\n",
       "    </tr>\n",
       "    <tr>\n",
       "      <th>2</th>\n",
       "      <td>Joseph</td>\n",
       "      <td>21.0</td>\n",
       "      <td>Nagpur</td>\n",
       "      <td>BTECH</td>\n",
       "    </tr>\n",
       "    <tr>\n",
       "      <th>3</th>\n",
       "      <td>Krish</td>\n",
       "      <td>19.0</td>\n",
       "      <td>Mumbai</td>\n",
       "      <td>MSC</td>\n",
       "    </tr>\n",
       "    <tr>\n",
       "      <th>5</th>\n",
       "      <td>Vishal</td>\n",
       "      <td>23.0</td>\n",
       "      <td>Nashik</td>\n",
       "      <td>LLB</td>\n",
       "    </tr>\n",
       "    <tr>\n",
       "      <th>6</th>\n",
       "      <td>Agam</td>\n",
       "      <td>22.0</td>\n",
       "      <td>Surat</td>\n",
       "      <td>B.PHARMA</td>\n",
       "    </tr>\n",
       "    <tr>\n",
       "      <th>8</th>\n",
       "      <td>Ram</td>\n",
       "      <td>21.0</td>\n",
       "      <td>Thane</td>\n",
       "      <td>B.PHARMA</td>\n",
       "    </tr>\n",
       "  </tbody>\n",
       "</table>\n",
       "</div>"
      ],
      "text/plain": [
       "              Name   Age Address Highest_Qualification\n",
       "Student_Id                                            \n",
       "1              Tom  20.0    Pune                   BSC\n",
       "2           Joseph  21.0  Nagpur                 BTECH\n",
       "3            Krish  19.0  Mumbai                   MSC\n",
       "5           Vishal  23.0  Nashik                   LLB\n",
       "6             Agam  22.0   Surat              B.PHARMA\n",
       "8              Ram  21.0   Thane              B.PHARMA"
      ]
     },
     "execution_count": 6,
     "metadata": {},
     "output_type": "execute_result"
    }
   ],
   "source": [
    "df.dropna()"
   ]
  },
  {
   "cell_type": "markdown",
   "id": "5a40248c",
   "metadata": {},
   "source": [
    "\n",
    "Q1. Create two CSV file with three columns viz. Tom, Brick, Harry with index ‘True’ and ‘False’.\n",
    "Each column must contain at least ten values each as a combination of datatypes."
   ]
  },
  {
   "cell_type": "code",
   "execution_count": 27,
   "id": "b41d6eee",
   "metadata": {},
   "outputs": [],
   "source": [
    "tom=pd.Series(np.random.randint(10,100,10))\n",
    "brick=pd.Series(np.random.randint(10,100,10))\n",
    "harry=pd.Series(np.random.choice([True,False],10))\n",
    "\n",
    "dic={'Tom':tom,'Brick':brick,'Harry':harry}\n",
    "df=pd.DataFrame(dic)\n",
    "df.to_csv(\"vish.csv\")"
   ]
  },
  {
   "cell_type": "markdown",
   "id": "dcd01f2f",
   "metadata": {},
   "source": [
    "Read the CountryDataIND.csv file and perform statistical operation on the same about the\n",
    "dataset. Look for any missing data if any"
   ]
  },
  {
   "cell_type": "code",
   "execution_count": 8,
   "id": "6a3ceb38",
   "metadata": {},
   "outputs": [],
   "source": [
    "df=pd.read_csv('CountryDataIND.csv')"
   ]
  },
  {
   "cell_type": "code",
   "execution_count": 9,
   "id": "5b49c4ee",
   "metadata": {},
   "outputs": [
    {
     "name": "stdout",
     "output_type": "stream",
     "text": [
      "<class 'pandas.core.frame.DataFrame'>\n",
      "RangeIndex: 29 entries, 0 to 28\n",
      "Data columns (total 16 columns):\n",
      " #   Column                 Non-Null Count  Dtype  \n",
      "---  ------                 --------------  -----  \n",
      " 0   Series Code            29 non-null     object \n",
      " 1   Frequency              29 non-null     object \n",
      " 2   Series                 29 non-null     object \n",
      " 3   Units of measurement   29 non-null     object \n",
      " 4   Location               29 non-null     object \n",
      " 5   Age group              29 non-null     object \n",
      " 6   Sex                    29 non-null     object \n",
      " 7   Reference Area         29 non-null     object \n",
      " 8   Source type            29 non-null     object \n",
      " 9   Time period            29 non-null     int64  \n",
      " 10  Observation Value      29 non-null     float64\n",
      " 11  Unit multiplier        29 non-null     object \n",
      " 12  Nature of data points  29 non-null     object \n",
      " 13  Time period details    29 non-null     int64  \n",
      " 14  Source details         23 non-null     object \n",
      " 15  Footnotes              0 non-null      float64\n",
      "dtypes: float64(2), int64(2), object(12)\n",
      "memory usage: 3.8+ KB\n"
     ]
    }
   ],
   "source": [
    "df.info()"
   ]
  },
  {
   "cell_type": "code",
   "execution_count": 11,
   "id": "eeb49c32",
   "metadata": {},
   "outputs": [
    {
     "data": {
      "text/plain": [
       "Series Code               0\n",
       "Frequency                 0\n",
       "Series                    0\n",
       "Units of measurement      0\n",
       "Location                  0\n",
       "Age group                 0\n",
       "Sex                       0\n",
       "Reference Area            0\n",
       "Source type               0\n",
       "Time period               0\n",
       "Observation Value         0\n",
       "Unit multiplier           0\n",
       "Nature of data points     0\n",
       "Time period details       0\n",
       "Source details            6\n",
       "Footnotes                29\n",
       "dtype: int64"
      ]
     },
     "execution_count": 11,
     "metadata": {},
     "output_type": "execute_result"
    }
   ],
   "source": [
    "df.isnull().sum()"
   ]
  },
  {
   "cell_type": "markdown",
   "id": "fac52de4",
   "metadata": {},
   "source": [
    "Plot a histogram by keeping the bin size to 10 for the column name = ‘Observation Value’.\n",
    "Also Plot a scatter plot between ‘observation Value’ and ‘Time Period’"
   ]
  },
  {
   "cell_type": "code",
   "execution_count": 13,
   "id": "81f5c604",
   "metadata": {},
   "outputs": [
    {
     "data": {
      "image/png": "[encoded data removed]",
      "text/plain": [
       "<Figure size 640x480 with 1 Axes>"
      ]
     },
     "metadata": {},
     "output_type": "display_data"
    }
   ],
   "source": [
    "import seaborn as sns\n",
    "import matplotlib.pyplot as plt\n",
    "sns.histplot(df['Observation Value'],bins=10)\n",
    "plt.show()"
   ]
  },
  {
   "cell_type": "code",
   "execution_count": 17,
   "id": "34965552",
   "metadata": {},
   "outputs": [
    {
     "data": {
      "text/plain": [
       "[]"
      ]
     },
     "execution_count": 17,
     "metadata": {},
     "output_type": "execute_result"
    },
    {
     "data": {
      "image/png": "[encoded data removed]",
      "text/plain": [
       "<Figure size 1500x600 with 1 Axes>"
      ]
     },
     "metadata": {},
     "output_type": "display_data"
    }
   ],
   "source": [
    "plt.figure(figsize=(15,6))\n",
    "plt.scatter(df['Observation Value'],df['Time period'])\n",
    "plt.xlabel(\"Observation Value\")\n",
    "plt.ylabel(\"Time Period\")\n",
    "plt.plot()"
   ]
  },
  {
   "cell_type": "markdown",
   "id": "b0030056",
   "metadata": {},
   "source": [
    "Q3. Create a data frame with at least 5 columns and 10 rows. Each column must contain only\n",
    "integer elements only. Column names must be Abilash, Ankit, Ashok, Asif, Anjaan. Now\n",
    "apply a function where we want to club together the data based on any row or column.\n",
    "Group the series using a mapper or by a series of columns."
   ]
  },
  {
   "cell_type": "code",
   "execution_count": 18,
   "id": "80e143d4",
   "metadata": {},
   "outputs": [
    {
     "data": {
      "text/html": [
       "<div>\n",
       "<style scoped>\n",
       "    .dataframe tbody tr th:only-of-type {\n",
       "        vertical-align: middle;\n",
       "    }\n",
       "\n",
       "    .dataframe tbody tr th {\n",
       "        vertical-align: top;\n",
       "    }\n",
       "\n",
       "    .dataframe thead th {\n",
       "        text-align: right;\n",
       "    }\n",
       "</style>\n",
       "<table border=\"1\" class=\"dataframe\">\n",
       "  <thead>\n",
       "    <tr style=\"text-align: right;\">\n",
       "      <th></th>\n",
       "      <th>Abilash</th>\n",
       "      <th>Ankit</th>\n",
       "      <th>Ashok</th>\n",
       "      <th>Asif</th>\n",
       "      <th>Anjaan</th>\n",
       "    </tr>\n",
       "  </thead>\n",
       "  <tbody>\n",
       "    <tr>\n",
       "      <th>0</th>\n",
       "      <td>92</td>\n",
       "      <td>21</td>\n",
       "      <td>33</td>\n",
       "      <td>35</td>\n",
       "      <td>68</td>\n",
       "    </tr>\n",
       "    <tr>\n",
       "      <th>1</th>\n",
       "      <td>39</td>\n",
       "      <td>65</td>\n",
       "      <td>64</td>\n",
       "      <td>65</td>\n",
       "      <td>48</td>\n",
       "    </tr>\n",
       "    <tr>\n",
       "      <th>2</th>\n",
       "      <td>28</td>\n",
       "      <td>17</td>\n",
       "      <td>43</td>\n",
       "      <td>59</td>\n",
       "      <td>92</td>\n",
       "    </tr>\n",
       "    <tr>\n",
       "      <th>3</th>\n",
       "      <td>57</td>\n",
       "      <td>43</td>\n",
       "      <td>95</td>\n",
       "      <td>39</td>\n",
       "      <td>36</td>\n",
       "    </tr>\n",
       "    <tr>\n",
       "      <th>4</th>\n",
       "      <td>86</td>\n",
       "      <td>54</td>\n",
       "      <td>25</td>\n",
       "      <td>17</td>\n",
       "      <td>77</td>\n",
       "    </tr>\n",
       "    <tr>\n",
       "      <th>5</th>\n",
       "      <td>41</td>\n",
       "      <td>94</td>\n",
       "      <td>54</td>\n",
       "      <td>90</td>\n",
       "      <td>37</td>\n",
       "    </tr>\n",
       "    <tr>\n",
       "      <th>6</th>\n",
       "      <td>38</td>\n",
       "      <td>47</td>\n",
       "      <td>72</td>\n",
       "      <td>23</td>\n",
       "      <td>87</td>\n",
       "    </tr>\n",
       "    <tr>\n",
       "      <th>7</th>\n",
       "      <td>75</td>\n",
       "      <td>74</td>\n",
       "      <td>92</td>\n",
       "      <td>82</td>\n",
       "      <td>27</td>\n",
       "    </tr>\n",
       "    <tr>\n",
       "      <th>8</th>\n",
       "      <td>38</td>\n",
       "      <td>89</td>\n",
       "      <td>23</td>\n",
       "      <td>22</td>\n",
       "      <td>70</td>\n",
       "    </tr>\n",
       "    <tr>\n",
       "      <th>9</th>\n",
       "      <td>59</td>\n",
       "      <td>16</td>\n",
       "      <td>41</td>\n",
       "      <td>19</td>\n",
       "      <td>60</td>\n",
       "    </tr>\n",
       "  </tbody>\n",
       "</table>\n",
       "</div>"
      ],
      "text/plain": [
       "   Abilash  Ankit  Ashok  Asif  Anjaan\n",
       "0       92     21     33    35      68\n",
       "1       39     65     64    65      48\n",
       "2       28     17     43    59      92\n",
       "3       57     43     95    39      36\n",
       "4       86     54     25    17      77\n",
       "5       41     94     54    90      37\n",
       "6       38     47     72    23      87\n",
       "7       75     74     92    82      27\n",
       "8       38     89     23    22      70\n",
       "9       59     16     41    19      60"
      ]
     },
     "execution_count": 18,
     "metadata": {},
     "output_type": "execute_result"
    }
   ],
   "source": [
    "abliash=pd.Series(np.random.randint(10,100,10))\n",
    "ankit=pd.Series(np.random.randint(10,100,10))\n",
    "ashok=pd.Series(np.random.randint(10,100,10))\n",
    "asif=pd.Series(np.random.randint(10,100,10))\n",
    "anjaan=pd.Series(np.random.randint(10,100,10))\n",
    "\n",
    "d={'Abilash':abliash,'Ankit':ankit,'Ashok':ashok,'Asif':asif,'Anjaan':anjaan}\n",
    "name=pd.DataFrame(d)\n",
    "name"
   ]
  },
  {
   "cell_type": "code",
   "execution_count": 23,
   "id": "73038a77",
   "metadata": {},
   "outputs": [
    {
     "ename": "KeyError",
     "evalue": "'Abhilash'",
     "output_type": "error",
     "traceback": [
      "\u001b[0;31m---------------------------------------------------------------------------\u001b[0m",
      "\u001b[0;31mKeyError\u001b[0m                                  Traceback (most recent call last)",
      "Cell \u001b[0;32mIn[23], line 1\u001b[0m\n\u001b[0;32m----> 1\u001b[0m a\u001b[38;5;241m=\u001b[39mdf\u001b[38;5;241m.\u001b[39mgroupby(\u001b[38;5;124m\"\u001b[39m\u001b[38;5;124mAbhilash\u001b[39m\u001b[38;5;124m\"\u001b[39m)\n\u001b[1;32m      2\u001b[0m a\n",
      "File \u001b[0;32m~/anaconda3/lib/python3.11/site-packages/pandas/core/frame.py:8402\u001b[0m, in \u001b[0;36mDataFrame.groupby\u001b[0;34m(self, by, axis, level, as_index, sort, group_keys, squeeze, observed, dropna)\u001b[0m\n\u001b[1;32m   8399\u001b[0m     \u001b[38;5;28;01mraise\u001b[39;00m \u001b[38;5;167;01mTypeError\u001b[39;00m(\u001b[38;5;124m\"\u001b[39m\u001b[38;5;124mYou have to supply one of \u001b[39m\u001b[38;5;124m'\u001b[39m\u001b[38;5;124mby\u001b[39m\u001b[38;5;124m'\u001b[39m\u001b[38;5;124m and \u001b[39m\u001b[38;5;124m'\u001b[39m\u001b[38;5;124mlevel\u001b[39m\u001b[38;5;124m'\u001b[39m\u001b[38;5;124m\"\u001b[39m)\n\u001b[1;32m   8400\u001b[0m axis \u001b[38;5;241m=\u001b[39m \u001b[38;5;28mself\u001b[39m\u001b[38;5;241m.\u001b[39m_get_axis_number(axis)\n\u001b[0;32m-> 8402\u001b[0m \u001b[38;5;28;01mreturn\u001b[39;00m DataFrameGroupBy(\n\u001b[1;32m   8403\u001b[0m     obj\u001b[38;5;241m=\u001b[39m\u001b[38;5;28mself\u001b[39m,\n\u001b[1;32m   8404\u001b[0m     keys\u001b[38;5;241m=\u001b[39mby,\n\u001b[1;32m   8405\u001b[0m     axis\u001b[38;5;241m=\u001b[39maxis,\n\u001b[1;32m   8406\u001b[0m     level\u001b[38;5;241m=\u001b[39mlevel,\n\u001b[1;32m   8407\u001b[0m     as_index\u001b[38;5;241m=\u001b[39mas_index,\n\u001b[1;32m   8408\u001b[0m     sort\u001b[38;5;241m=\u001b[39msort,\n\u001b[1;32m   8409\u001b[0m     group_keys\u001b[38;5;241m=\u001b[39mgroup_keys,\n\u001b[1;32m   8410\u001b[0m     squeeze\u001b[38;5;241m=\u001b[39msqueeze,\n\u001b[1;32m   8411\u001b[0m     observed\u001b[38;5;241m=\u001b[39mobserved,\n\u001b[1;32m   8412\u001b[0m     dropna\u001b[38;5;241m=\u001b[39mdropna,\n\u001b[1;32m   8413\u001b[0m )\n",
      "File \u001b[0;32m~/anaconda3/lib/python3.11/site-packages/pandas/core/groupby/groupby.py:965\u001b[0m, in \u001b[0;36mGroupBy.__init__\u001b[0;34m(self, obj, keys, axis, level, grouper, exclusions, selection, as_index, sort, group_keys, squeeze, observed, mutated, dropna)\u001b[0m\n\u001b[1;32m    962\u001b[0m \u001b[38;5;28;01mif\u001b[39;00m grouper \u001b[38;5;129;01mis\u001b[39;00m \u001b[38;5;28;01mNone\u001b[39;00m:\n\u001b[1;32m    963\u001b[0m     \u001b[38;5;28;01mfrom\u001b[39;00m \u001b[38;5;21;01mpandas\u001b[39;00m\u001b[38;5;21;01m.\u001b[39;00m\u001b[38;5;21;01mcore\u001b[39;00m\u001b[38;5;21;01m.\u001b[39;00m\u001b[38;5;21;01mgroupby\u001b[39;00m\u001b[38;5;21;01m.\u001b[39;00m\u001b[38;5;21;01mgrouper\u001b[39;00m \u001b[38;5;28;01mimport\u001b[39;00m get_grouper\n\u001b[0;32m--> 965\u001b[0m     grouper, exclusions, obj \u001b[38;5;241m=\u001b[39m get_grouper(\n\u001b[1;32m    966\u001b[0m         obj,\n\u001b[1;32m    967\u001b[0m         keys,\n\u001b[1;32m    968\u001b[0m         axis\u001b[38;5;241m=\u001b[39maxis,\n\u001b[1;32m    969\u001b[0m         level\u001b[38;5;241m=\u001b[39mlevel,\n\u001b[1;32m    970\u001b[0m         sort\u001b[38;5;241m=\u001b[39msort,\n\u001b[1;32m    971\u001b[0m         observed\u001b[38;5;241m=\u001b[39mobserved,\n\u001b[1;32m    972\u001b[0m         mutated\u001b[38;5;241m=\u001b[39m\u001b[38;5;28mself\u001b[39m\u001b[38;5;241m.\u001b[39mmutated,\n\u001b[1;32m    973\u001b[0m         dropna\u001b[38;5;241m=\u001b[39m\u001b[38;5;28mself\u001b[39m\u001b[38;5;241m.\u001b[39mdropna,\n\u001b[1;32m    974\u001b[0m     )\n\u001b[1;32m    976\u001b[0m \u001b[38;5;28mself\u001b[39m\u001b[38;5;241m.\u001b[39mobj \u001b[38;5;241m=\u001b[39m obj\n\u001b[1;32m    977\u001b[0m \u001b[38;5;28mself\u001b[39m\u001b[38;5;241m.\u001b[39maxis \u001b[38;5;241m=\u001b[39m obj\u001b[38;5;241m.\u001b[39m_get_axis_number(axis)\n",
      "File \u001b[0;32m~/anaconda3/lib/python3.11/site-packages/pandas/core/groupby/grouper.py:888\u001b[0m, in \u001b[0;36mget_grouper\u001b[0;34m(obj, key, axis, level, sort, observed, mutated, validate, dropna)\u001b[0m\n\u001b[1;32m    886\u001b[0m         in_axis, level, gpr \u001b[38;5;241m=\u001b[39m \u001b[38;5;28;01mFalse\u001b[39;00m, gpr, \u001b[38;5;28;01mNone\u001b[39;00m\n\u001b[1;32m    887\u001b[0m     \u001b[38;5;28;01melse\u001b[39;00m:\n\u001b[0;32m--> 888\u001b[0m         \u001b[38;5;28;01mraise\u001b[39;00m \u001b[38;5;167;01mKeyError\u001b[39;00m(gpr)\n\u001b[1;32m    889\u001b[0m \u001b[38;5;28;01melif\u001b[39;00m \u001b[38;5;28misinstance\u001b[39m(gpr, Grouper) \u001b[38;5;129;01mand\u001b[39;00m gpr\u001b[38;5;241m.\u001b[39mkey \u001b[38;5;129;01mis\u001b[39;00m \u001b[38;5;129;01mnot\u001b[39;00m \u001b[38;5;28;01mNone\u001b[39;00m:\n\u001b[1;32m    890\u001b[0m     \u001b[38;5;66;03m# Add key to exclusions\u001b[39;00m\n\u001b[1;32m    891\u001b[0m     exclusions\u001b[38;5;241m.\u001b[39madd(gpr\u001b[38;5;241m.\u001b[39mkey)\n",
      "\u001b[0;31mKeyError\u001b[0m: 'Abhilash'"
     ]
    }
   ],
   "source": [
    "a=df.groupby\n",
    "a"
   ]
  },
  {
   "cell_type": "code",
   "execution_count": null,
   "id": "3e718354",
   "metadata": {},
   "outputs": [],
   "source": []
  }
 ],
 "metadata": {
  "kernelspec": {
   "display_name": "Python 3 (ipykernel)",
   "language": "python",
   "name": "python3"
  },
  "language_info": {
   "codemirror_mode": {
    "name": "ipython",
    "version": 3
   },
   "file_extension": ".py",
   "mimetype": "text/x-python",
   "name": "python",
   "nbconvert_exporter": "python",
   "pygments_lexer": "ipython3",
   "version": "3.11.4"
  }
 },
 "nbformat": 4,
 "nbformat_minor": 5
}
