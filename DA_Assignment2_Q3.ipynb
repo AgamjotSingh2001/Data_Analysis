{
 "cells": [
  {
   "cell_type": "code",
   "execution_count": 1,
   "id": "cc708086",
   "metadata": {},
   "outputs": [],
   "source": [
    "import pandas as pd\n",
    "import numpy as np\n",
    "import matplotlib.pyplot as plt\n",
    "import seaborn as sns"
   ]
  },
  {
   "cell_type": "code",
   "execution_count": 2,
   "id": "00ef94da",
   "metadata": {},
   "outputs": [
    {
     "data": {
      "text/html": [
       "<div>\n",
       "<style scoped>\n",
       "    .dataframe tbody tr th:only-of-type {\n",
       "        vertical-align: middle;\n",
       "    }\n",
       "\n",
       "    .dataframe tbody tr th {\n",
       "        vertical-align: top;\n",
       "    }\n",
       "\n",
       "    .dataframe thead th {\n",
       "        text-align: right;\n",
       "    }\n",
       "</style>\n",
       "<table border=\"1\" class=\"dataframe\">\n",
       "  <thead>\n",
       "    <tr style=\"text-align: right;\">\n",
       "      <th></th>\n",
       "      <th>model</th>\n",
       "      <th>displ</th>\n",
       "      <th>cyl</th>\n",
       "      <th>trans</th>\n",
       "      <th>drive</th>\n",
       "      <th>fuel</th>\n",
       "      <th>veh_class</th>\n",
       "      <th>air_pollution_score</th>\n",
       "      <th>city_mpg</th>\n",
       "      <th>hwy_mpg</th>\n",
       "      <th>cmb_mpg</th>\n",
       "      <th>greenhouse_gas_score</th>\n",
       "      <th>smartway</th>\n",
       "    </tr>\n",
       "  </thead>\n",
       "  <tbody>\n",
       "    <tr>\n",
       "      <th>0</th>\n",
       "      <td>ACURA MDX</td>\n",
       "      <td>3.7</td>\n",
       "      <td>6</td>\n",
       "      <td>Auto-S5</td>\n",
       "      <td>4WD</td>\n",
       "      <td>Gasoline</td>\n",
       "      <td>SUV</td>\n",
       "      <td>7.0</td>\n",
       "      <td>15.0</td>\n",
       "      <td>20.0</td>\n",
       "      <td>17.0</td>\n",
       "      <td>4</td>\n",
       "      <td>no</td>\n",
       "    </tr>\n",
       "    <tr>\n",
       "      <th>1</th>\n",
       "      <td>ACURA RDX</td>\n",
       "      <td>2.3</td>\n",
       "      <td>4</td>\n",
       "      <td>Auto-S5</td>\n",
       "      <td>4WD</td>\n",
       "      <td>Gasoline</td>\n",
       "      <td>SUV</td>\n",
       "      <td>7.0</td>\n",
       "      <td>17.0</td>\n",
       "      <td>22.0</td>\n",
       "      <td>19.0</td>\n",
       "      <td>5</td>\n",
       "      <td>no</td>\n",
       "    </tr>\n",
       "    <tr>\n",
       "      <th>2</th>\n",
       "      <td>ACURA RL</td>\n",
       "      <td>3.5</td>\n",
       "      <td>6</td>\n",
       "      <td>Auto-S5</td>\n",
       "      <td>4WD</td>\n",
       "      <td>Gasoline</td>\n",
       "      <td>midsize car</td>\n",
       "      <td>7.0</td>\n",
       "      <td>16.0</td>\n",
       "      <td>24.0</td>\n",
       "      <td>19.0</td>\n",
       "      <td>5</td>\n",
       "      <td>no</td>\n",
       "    </tr>\n",
       "    <tr>\n",
       "      <th>3</th>\n",
       "      <td>ACURA TL</td>\n",
       "      <td>3.2</td>\n",
       "      <td>6</td>\n",
       "      <td>Auto-S5</td>\n",
       "      <td>2WD</td>\n",
       "      <td>Gasoline</td>\n",
       "      <td>midsize car</td>\n",
       "      <td>7.0</td>\n",
       "      <td>18.0</td>\n",
       "      <td>26.0</td>\n",
       "      <td>21.0</td>\n",
       "      <td>6</td>\n",
       "      <td>yes</td>\n",
       "    </tr>\n",
       "    <tr>\n",
       "      <th>4</th>\n",
       "      <td>ACURA TL</td>\n",
       "      <td>3.5</td>\n",
       "      <td>6</td>\n",
       "      <td>Auto-S5</td>\n",
       "      <td>2WD</td>\n",
       "      <td>Gasoline</td>\n",
       "      <td>midsize car</td>\n",
       "      <td>7.0</td>\n",
       "      <td>17.0</td>\n",
       "      <td>26.0</td>\n",
       "      <td>20.0</td>\n",
       "      <td>6</td>\n",
       "      <td>yes</td>\n",
       "    </tr>\n",
       "    <tr>\n",
       "      <th>...</th>\n",
       "      <td>...</td>\n",
       "      <td>...</td>\n",
       "      <td>...</td>\n",
       "      <td>...</td>\n",
       "      <td>...</td>\n",
       "      <td>...</td>\n",
       "      <td>...</td>\n",
       "      <td>...</td>\n",
       "      <td>...</td>\n",
       "      <td>...</td>\n",
       "      <td>...</td>\n",
       "      <td>...</td>\n",
       "      <td>...</td>\n",
       "    </tr>\n",
       "    <tr>\n",
       "      <th>982</th>\n",
       "      <td>VOLVO XC 90</td>\n",
       "      <td>3.2</td>\n",
       "      <td>6</td>\n",
       "      <td>Auto-S6</td>\n",
       "      <td>2WD</td>\n",
       "      <td>Gasoline</td>\n",
       "      <td>SUV</td>\n",
       "      <td>7.0</td>\n",
       "      <td>14.0</td>\n",
       "      <td>20.0</td>\n",
       "      <td>16.0</td>\n",
       "      <td>4</td>\n",
       "      <td>no</td>\n",
       "    </tr>\n",
       "    <tr>\n",
       "      <th>983</th>\n",
       "      <td>VOLVO XC 90</td>\n",
       "      <td>3.2</td>\n",
       "      <td>6</td>\n",
       "      <td>Auto-S6</td>\n",
       "      <td>4WD</td>\n",
       "      <td>Gasoline</td>\n",
       "      <td>SUV</td>\n",
       "      <td>7.0</td>\n",
       "      <td>14.0</td>\n",
       "      <td>20.0</td>\n",
       "      <td>16.0</td>\n",
       "      <td>4</td>\n",
       "      <td>no</td>\n",
       "    </tr>\n",
       "    <tr>\n",
       "      <th>984</th>\n",
       "      <td>VOLVO XC 90</td>\n",
       "      <td>4.4</td>\n",
       "      <td>8</td>\n",
       "      <td>Auto-S6</td>\n",
       "      <td>4WD</td>\n",
       "      <td>Gasoline</td>\n",
       "      <td>SUV</td>\n",
       "      <td>7.0</td>\n",
       "      <td>13.0</td>\n",
       "      <td>19.0</td>\n",
       "      <td>15.0</td>\n",
       "      <td>3</td>\n",
       "      <td>no</td>\n",
       "    </tr>\n",
       "    <tr>\n",
       "      <th>985</th>\n",
       "      <td>MERCEDES-BENZ C300</td>\n",
       "      <td>3.0</td>\n",
       "      <td>6</td>\n",
       "      <td>Auto-L7</td>\n",
       "      <td>2WD</td>\n",
       "      <td>ethanol</td>\n",
       "      <td>small car</td>\n",
       "      <td>6.0</td>\n",
       "      <td>13.0</td>\n",
       "      <td>19.0</td>\n",
       "      <td>15.0</td>\n",
       "      <td>7</td>\n",
       "      <td>no</td>\n",
       "    </tr>\n",
       "    <tr>\n",
       "      <th>986</th>\n",
       "      <td>MERCEDES-BENZ C300</td>\n",
       "      <td>3.0</td>\n",
       "      <td>6</td>\n",
       "      <td>Auto-L7</td>\n",
       "      <td>2WD</td>\n",
       "      <td>gas</td>\n",
       "      <td>small car</td>\n",
       "      <td>4.0</td>\n",
       "      <td>18.0</td>\n",
       "      <td>25.0</td>\n",
       "      <td>21.0</td>\n",
       "      <td>6</td>\n",
       "      <td>no</td>\n",
       "    </tr>\n",
       "  </tbody>\n",
       "</table>\n",
       "<p>987 rows × 13 columns</p>\n",
       "</div>"
      ],
      "text/plain": [
       "                  model  displ  cyl    trans drive      fuel    veh_class  \\\n",
       "0             ACURA MDX    3.7    6  Auto-S5   4WD  Gasoline          SUV   \n",
       "1             ACURA RDX    2.3    4  Auto-S5   4WD  Gasoline          SUV   \n",
       "2              ACURA RL    3.5    6  Auto-S5   4WD  Gasoline  midsize car   \n",
       "3              ACURA TL    3.2    6  Auto-S5   2WD  Gasoline  midsize car   \n",
       "4              ACURA TL    3.5    6  Auto-S5   2WD  Gasoline  midsize car   \n",
       "..                  ...    ...  ...      ...   ...       ...          ...   \n",
       "982         VOLVO XC 90    3.2    6  Auto-S6   2WD  Gasoline          SUV   \n",
       "983         VOLVO XC 90    3.2    6  Auto-S6   4WD  Gasoline          SUV   \n",
       "984         VOLVO XC 90    4.4    8  Auto-S6   4WD  Gasoline          SUV   \n",
       "985  MERCEDES-BENZ C300    3.0    6  Auto-L7   2WD   ethanol    small car   \n",
       "986  MERCEDES-BENZ C300    3.0    6  Auto-L7   2WD       gas    small car   \n",
       "\n",
       "     air_pollution_score  city_mpg  hwy_mpg  cmb_mpg  greenhouse_gas_score  \\\n",
       "0                    7.0      15.0     20.0     17.0                     4   \n",
       "1                    7.0      17.0     22.0     19.0                     5   \n",
       "2                    7.0      16.0     24.0     19.0                     5   \n",
       "3                    7.0      18.0     26.0     21.0                     6   \n",
       "4                    7.0      17.0     26.0     20.0                     6   \n",
       "..                   ...       ...      ...      ...                   ...   \n",
       "982                  7.0      14.0     20.0     16.0                     4   \n",
       "983                  7.0      14.0     20.0     16.0                     4   \n",
       "984                  7.0      13.0     19.0     15.0                     3   \n",
       "985                  6.0      13.0     19.0     15.0                     7   \n",
       "986                  4.0      18.0     25.0     21.0                     6   \n",
       "\n",
       "    smartway  \n",
       "0         no  \n",
       "1         no  \n",
       "2         no  \n",
       "3        yes  \n",
       "4        yes  \n",
       "..       ...  \n",
       "982       no  \n",
       "983       no  \n",
       "984       no  \n",
       "985       no  \n",
       "986       no  \n",
       "\n",
       "[987 rows x 13 columns]"
      ]
     },
     "execution_count": 2,
     "metadata": {},
     "output_type": "execute_result"
    }
   ],
   "source": [
    "clean08=pd.read_csv(\"clean_08.csv\")\n",
    "clean18=pd.read_csv(\"clean_18.csv\")\n",
    "clean08"
   ]
  },
  {
   "cell_type": "code",
   "execution_count": 3,
   "id": "31db33bb",
   "metadata": {},
   "outputs": [],
   "source": [
    "clean08.rename(columns={\"cmb_mpg\":\"cmb_mpg08\"},inplace=True)"
   ]
  },
  {
   "cell_type": "code",
   "execution_count": 4,
   "id": "51d78779",
   "metadata": {},
   "outputs": [],
   "source": [
    "clean18.rename(columns={\"cmb_mpg\":\"cmb_mpg18\"},inplace=True)"
   ]
  },
  {
   "cell_type": "code",
   "execution_count": 5,
   "id": "182178fe",
   "metadata": {},
   "outputs": [
    {
     "data": {
      "text/plain": [
       "small car          285\n",
       "midsize car        138\n",
       "small SUV          108\n",
       "large car           88\n",
       "standard SUV        86\n",
       "pickup              78\n",
       "station wagon       34\n",
       "special purpose     10\n",
       "minivan              5\n",
       "Name: veh_class, dtype: int64"
      ]
     },
     "execution_count": 5,
     "metadata": {},
     "output_type": "execute_result"
    }
   ],
   "source": [
    "clean18['veh_class'].value_counts()"
   ]
  },
  {
   "cell_type": "code",
   "execution_count": null,
   "id": "e9376cd8",
   "metadata": {},
   "outputs": [],
   "source": []
  },
  {
   "cell_type": "markdown",
   "id": "a27d166f",
   "metadata": {},
   "source": [
    "1. Find out the alternative sources of fuel available in 2008 & 2018 respectively and by how much?"
   ]
  },
  {
   "cell_type": "code",
   "execution_count": 6,
   "id": "02bd6d8f",
   "metadata": {},
   "outputs": [
    {
     "data": {
      "text/html": [
       "<div>\n",
       "<style scoped>\n",
       "    .dataframe tbody tr th:only-of-type {\n",
       "        vertical-align: middle;\n",
       "    }\n",
       "\n",
       "    .dataframe tbody tr th {\n",
       "        vertical-align: top;\n",
       "    }\n",
       "\n",
       "    .dataframe thead th {\n",
       "        text-align: right;\n",
       "    }\n",
       "</style>\n",
       "<table border=\"1\" class=\"dataframe\">\n",
       "  <thead>\n",
       "    <tr style=\"text-align: right;\">\n",
       "      <th></th>\n",
       "      <th>fuel</th>\n",
       "    </tr>\n",
       "  </thead>\n",
       "  <tbody>\n",
       "    <tr>\n",
       "      <th>CNG</th>\n",
       "      <td>1</td>\n",
       "    </tr>\n",
       "    <tr>\n",
       "      <th>ethanol</th>\n",
       "      <td>1</td>\n",
       "    </tr>\n",
       "    <tr>\n",
       "      <th>gas</th>\n",
       "      <td>1</td>\n",
       "    </tr>\n",
       "  </tbody>\n",
       "</table>\n",
       "</div>"
      ],
      "text/plain": [
       "         fuel\n",
       "CNG         1\n",
       "ethanol     1\n",
       "gas         1"
      ]
     },
     "execution_count": 6,
     "metadata": {},
     "output_type": "execute_result"
    }
   ],
   "source": [
    "#Alternative source of fuel (2008)\n",
    "Alternative_source_08=clean08[clean08[\"fuel\"]!=\"Gasoline\"]\n",
    "Alternative_source_08=pd.DataFrame(Alternative_source_08['fuel'].value_counts())\n",
    "Alternative_source_08"
   ]
  },
  {
   "cell_type": "code",
   "execution_count": 7,
   "id": "bf9873ef",
   "metadata": {},
   "outputs": [
    {
     "data": {
      "text/html": [
       "<div>\n",
       "<style scoped>\n",
       "    .dataframe tbody tr th:only-of-type {\n",
       "        vertical-align: middle;\n",
       "    }\n",
       "\n",
       "    .dataframe tbody tr th {\n",
       "        vertical-align: top;\n",
       "    }\n",
       "\n",
       "    .dataframe thead th {\n",
       "        text-align: right;\n",
       "    }\n",
       "</style>\n",
       "<table border=\"1\" class=\"dataframe\">\n",
       "  <thead>\n",
       "    <tr style=\"text-align: right;\">\n",
       "      <th></th>\n",
       "      <th>fuel</th>\n",
       "    </tr>\n",
       "  </thead>\n",
       "  <tbody>\n",
       "    <tr>\n",
       "      <th>Ethanol</th>\n",
       "      <td>26</td>\n",
       "    </tr>\n",
       "    <tr>\n",
       "      <th>Gas</th>\n",
       "      <td>26</td>\n",
       "    </tr>\n",
       "    <tr>\n",
       "      <th>Diesel</th>\n",
       "      <td>19</td>\n",
       "    </tr>\n",
       "    <tr>\n",
       "      <th>Electricity</th>\n",
       "      <td>12</td>\n",
       "    </tr>\n",
       "  </tbody>\n",
       "</table>\n",
       "</div>"
      ],
      "text/plain": [
       "             fuel\n",
       "Ethanol        26\n",
       "Gas            26\n",
       "Diesel         19\n",
       "Electricity    12"
      ]
     },
     "execution_count": 7,
     "metadata": {},
     "output_type": "execute_result"
    }
   ],
   "source": [
    "#Alternative source of fuel (2018)\n",
    "Alternative_source_18=clean18[clean18[\"fuel\"]!=\"Gasoline\"]\n",
    "Alternative_source_18=pd.DataFrame(Alternative_source_18['fuel'].value_counts())\n",
    "Alternative_source_18"
   ]
  },
  {
   "cell_type": "markdown",
   "id": "7bf53458",
   "metadata": {},
   "source": [
    "\n",
    "# Q2. Is there any improvement in ‘fuel economy’ with respect to vehicle class from 2008 to 2018, perform the necessary steps to examine?"
   ]
  },
  {
   "cell_type": "code",
   "execution_count": 8,
   "id": "cb7316ed",
   "metadata": {},
   "outputs": [],
   "source": [
    "fuel_economy_08=clean08.groupby('veh_class')\n",
    "fuel_economy_18=clean18.groupby('veh_class')"
   ]
  },
  {
   "cell_type": "code",
   "execution_count": 9,
   "id": "19f96dbe",
   "metadata": {},
   "outputs": [],
   "source": [
    "\n",
    "fuel_economy_08=fuel_economy_08['cmb_mpg08'].mean()\n",
    "#fuel_economy_08.rename(columns={'cmb_mpg':'cmb_mpg_08'})\n"
   ]
  },
  {
   "cell_type": "code",
   "execution_count": 10,
   "id": "2721a9b1",
   "metadata": {},
   "outputs": [],
   "source": [
    "fuel_economy_18=fuel_economy_18['cmb_mpg18'].mean()\n"
   ]
  },
  {
   "cell_type": "code",
   "execution_count": 11,
   "id": "7e7817a9",
   "metadata": {},
   "outputs": [],
   "source": [
    "fuel_economy_combined=pd.concat([fuel_economy_08,fuel_economy_18],axis=1)"
   ]
  },
  {
   "cell_type": "code",
   "execution_count": 12,
   "id": "9abde9a8",
   "metadata": {},
   "outputs": [
    {
     "data": {
      "text/html": [
       "<div>\n",
       "<style scoped>\n",
       "    .dataframe tbody tr th:only-of-type {\n",
       "        vertical-align: middle;\n",
       "    }\n",
       "\n",
       "    .dataframe tbody tr th {\n",
       "        vertical-align: top;\n",
       "    }\n",
       "\n",
       "    .dataframe thead th {\n",
       "        text-align: right;\n",
       "    }\n",
       "</style>\n",
       "<table border=\"1\" class=\"dataframe\">\n",
       "  <thead>\n",
       "    <tr style=\"text-align: right;\">\n",
       "      <th></th>\n",
       "      <th>cmb_mpg08</th>\n",
       "      <th>cmb_mpg18</th>\n",
       "    </tr>\n",
       "    <tr>\n",
       "      <th>veh_class</th>\n",
       "      <th></th>\n",
       "      <th></th>\n",
       "    </tr>\n",
       "  </thead>\n",
       "  <tbody>\n",
       "    <tr>\n",
       "      <th>SUV</th>\n",
       "      <td>18.471429</td>\n",
       "      <td>NaN</td>\n",
       "    </tr>\n",
       "    <tr>\n",
       "      <th>large car</th>\n",
       "      <td>18.509091</td>\n",
       "      <td>23.409091</td>\n",
       "    </tr>\n",
       "    <tr>\n",
       "      <th>midsize car</th>\n",
       "      <td>21.601449</td>\n",
       "      <td>27.884058</td>\n",
       "    </tr>\n",
       "    <tr>\n",
       "      <th>minivan</th>\n",
       "      <td>19.117647</td>\n",
       "      <td>20.800000</td>\n",
       "    </tr>\n",
       "    <tr>\n",
       "      <th>pickup</th>\n",
       "      <td>16.277108</td>\n",
       "      <td>18.589744</td>\n",
       "    </tr>\n",
       "    <tr>\n",
       "      <th>small car</th>\n",
       "      <td>21.105105</td>\n",
       "      <td>25.421053</td>\n",
       "    </tr>\n",
       "    <tr>\n",
       "      <th>station wagon</th>\n",
       "      <td>22.366667</td>\n",
       "      <td>27.529412</td>\n",
       "    </tr>\n",
       "    <tr>\n",
       "      <th>van</th>\n",
       "      <td>14.952381</td>\n",
       "      <td>NaN</td>\n",
       "    </tr>\n",
       "    <tr>\n",
       "      <th>small SUV</th>\n",
       "      <td>NaN</td>\n",
       "      <td>24.074074</td>\n",
       "    </tr>\n",
       "    <tr>\n",
       "      <th>special purpose</th>\n",
       "      <td>NaN</td>\n",
       "      <td>18.500000</td>\n",
       "    </tr>\n",
       "    <tr>\n",
       "      <th>standard SUV</th>\n",
       "      <td>NaN</td>\n",
       "      <td>18.197674</td>\n",
       "    </tr>\n",
       "  </tbody>\n",
       "</table>\n",
       "</div>"
      ],
      "text/plain": [
       "                 cmb_mpg08  cmb_mpg18\n",
       "veh_class                            \n",
       "SUV              18.471429        NaN\n",
       "large car        18.509091  23.409091\n",
       "midsize car      21.601449  27.884058\n",
       "minivan          19.117647  20.800000\n",
       "pickup           16.277108  18.589744\n",
       "small car        21.105105  25.421053\n",
       "station wagon    22.366667  27.529412\n",
       "van              14.952381        NaN\n",
       "small SUV              NaN  24.074074\n",
       "special purpose        NaN  18.500000\n",
       "standard SUV           NaN  18.197674"
      ]
     },
     "execution_count": 12,
     "metadata": {},
     "output_type": "execute_result"
    }
   ],
   "source": [
    "fuel_economy_combined"
   ]
  },
  {
   "cell_type": "code",
   "execution_count": 13,
   "id": "f8be9b93",
   "metadata": {},
   "outputs": [
    {
     "data": {
      "text/html": [
       "<div>\n",
       "<style scoped>\n",
       "    .dataframe tbody tr th:only-of-type {\n",
       "        vertical-align: middle;\n",
       "    }\n",
       "\n",
       "    .dataframe tbody tr th {\n",
       "        vertical-align: top;\n",
       "    }\n",
       "\n",
       "    .dataframe thead th {\n",
       "        text-align: right;\n",
       "    }\n",
       "</style>\n",
       "<table border=\"1\" class=\"dataframe\">\n",
       "  <thead>\n",
       "    <tr style=\"text-align: right;\">\n",
       "      <th></th>\n",
       "      <th>cmb_mpg08</th>\n",
       "      <th>cmb_mpg18</th>\n",
       "    </tr>\n",
       "    <tr>\n",
       "      <th>veh_class</th>\n",
       "      <th></th>\n",
       "      <th></th>\n",
       "    </tr>\n",
       "  </thead>\n",
       "  <tbody>\n",
       "    <tr>\n",
       "      <th>SUV</th>\n",
       "      <td>18.471429</td>\n",
       "      <td>NaN</td>\n",
       "    </tr>\n",
       "    <tr>\n",
       "      <th>large car</th>\n",
       "      <td>18.509091</td>\n",
       "      <td>23.409091</td>\n",
       "    </tr>\n",
       "    <tr>\n",
       "      <th>midsize car</th>\n",
       "      <td>21.601449</td>\n",
       "      <td>27.884058</td>\n",
       "    </tr>\n",
       "    <tr>\n",
       "      <th>minivan</th>\n",
       "      <td>19.117647</td>\n",
       "      <td>20.800000</td>\n",
       "    </tr>\n",
       "    <tr>\n",
       "      <th>pickup</th>\n",
       "      <td>16.277108</td>\n",
       "      <td>18.589744</td>\n",
       "    </tr>\n",
       "    <tr>\n",
       "      <th>small car</th>\n",
       "      <td>21.105105</td>\n",
       "      <td>25.421053</td>\n",
       "    </tr>\n",
       "    <tr>\n",
       "      <th>station wagon</th>\n",
       "      <td>22.366667</td>\n",
       "      <td>27.529412</td>\n",
       "    </tr>\n",
       "    <tr>\n",
       "      <th>van</th>\n",
       "      <td>14.952381</td>\n",
       "      <td>NaN</td>\n",
       "    </tr>\n",
       "    <tr>\n",
       "      <th>small SUV</th>\n",
       "      <td>NaN</td>\n",
       "      <td>24.074074</td>\n",
       "    </tr>\n",
       "    <tr>\n",
       "      <th>special purpose</th>\n",
       "      <td>NaN</td>\n",
       "      <td>18.500000</td>\n",
       "    </tr>\n",
       "    <tr>\n",
       "      <th>standard SUV</th>\n",
       "      <td>NaN</td>\n",
       "      <td>18.197674</td>\n",
       "    </tr>\n",
       "  </tbody>\n",
       "</table>\n",
       "</div>"
      ],
      "text/plain": [
       "                 cmb_mpg08  cmb_mpg18\n",
       "veh_class                            \n",
       "SUV              18.471429        NaN\n",
       "large car        18.509091  23.409091\n",
       "midsize car      21.601449  27.884058\n",
       "minivan          19.117647  20.800000\n",
       "pickup           16.277108  18.589744\n",
       "small car        21.105105  25.421053\n",
       "station wagon    22.366667  27.529412\n",
       "van              14.952381        NaN\n",
       "small SUV              NaN  24.074074\n",
       "special purpose        NaN  18.500000\n",
       "standard SUV           NaN  18.197674"
      ]
     },
     "execution_count": 13,
     "metadata": {},
     "output_type": "execute_result"
    }
   ],
   "source": [
    "fuel_economy_combined"
   ]
  },
  {
   "cell_type": "code",
   "execution_count": 14,
   "id": "45ed58d7",
   "metadata": {},
   "outputs": [],
   "source": [
    "fuel_economy_combined.fillna(0,inplace=True)"
   ]
  },
  {
   "cell_type": "code",
   "execution_count": 15,
   "id": "52854de9",
   "metadata": {},
   "outputs": [
    {
     "data": {
      "text/html": [
       "<div>\n",
       "<style scoped>\n",
       "    .dataframe tbody tr th:only-of-type {\n",
       "        vertical-align: middle;\n",
       "    }\n",
       "\n",
       "    .dataframe tbody tr th {\n",
       "        vertical-align: top;\n",
       "    }\n",
       "\n",
       "    .dataframe thead th {\n",
       "        text-align: right;\n",
       "    }\n",
       "</style>\n",
       "<table border=\"1\" class=\"dataframe\">\n",
       "  <thead>\n",
       "    <tr style=\"text-align: right;\">\n",
       "      <th></th>\n",
       "      <th>cmb_mpg08</th>\n",
       "      <th>cmb_mpg18</th>\n",
       "    </tr>\n",
       "    <tr>\n",
       "      <th>veh_class</th>\n",
       "      <th></th>\n",
       "      <th></th>\n",
       "    </tr>\n",
       "  </thead>\n",
       "  <tbody>\n",
       "    <tr>\n",
       "      <th>SUV</th>\n",
       "      <td>18.471429</td>\n",
       "      <td>0.000000</td>\n",
       "    </tr>\n",
       "    <tr>\n",
       "      <th>large car</th>\n",
       "      <td>18.509091</td>\n",
       "      <td>23.409091</td>\n",
       "    </tr>\n",
       "    <tr>\n",
       "      <th>midsize car</th>\n",
       "      <td>21.601449</td>\n",
       "      <td>27.884058</td>\n",
       "    </tr>\n",
       "    <tr>\n",
       "      <th>minivan</th>\n",
       "      <td>19.117647</td>\n",
       "      <td>20.800000</td>\n",
       "    </tr>\n",
       "    <tr>\n",
       "      <th>pickup</th>\n",
       "      <td>16.277108</td>\n",
       "      <td>18.589744</td>\n",
       "    </tr>\n",
       "    <tr>\n",
       "      <th>small car</th>\n",
       "      <td>21.105105</td>\n",
       "      <td>25.421053</td>\n",
       "    </tr>\n",
       "    <tr>\n",
       "      <th>station wagon</th>\n",
       "      <td>22.366667</td>\n",
       "      <td>27.529412</td>\n",
       "    </tr>\n",
       "    <tr>\n",
       "      <th>van</th>\n",
       "      <td>14.952381</td>\n",
       "      <td>0.000000</td>\n",
       "    </tr>\n",
       "    <tr>\n",
       "      <th>small SUV</th>\n",
       "      <td>0.000000</td>\n",
       "      <td>24.074074</td>\n",
       "    </tr>\n",
       "    <tr>\n",
       "      <th>special purpose</th>\n",
       "      <td>0.000000</td>\n",
       "      <td>18.500000</td>\n",
       "    </tr>\n",
       "    <tr>\n",
       "      <th>standard SUV</th>\n",
       "      <td>0.000000</td>\n",
       "      <td>18.197674</td>\n",
       "    </tr>\n",
       "  </tbody>\n",
       "</table>\n",
       "</div>"
      ],
      "text/plain": [
       "                 cmb_mpg08  cmb_mpg18\n",
       "veh_class                            \n",
       "SUV              18.471429   0.000000\n",
       "large car        18.509091  23.409091\n",
       "midsize car      21.601449  27.884058\n",
       "minivan          19.117647  20.800000\n",
       "pickup           16.277108  18.589744\n",
       "small car        21.105105  25.421053\n",
       "station wagon    22.366667  27.529412\n",
       "van              14.952381   0.000000\n",
       "small SUV         0.000000  24.074074\n",
       "special purpose   0.000000  18.500000\n",
       "standard SUV      0.000000  18.197674"
      ]
     },
     "execution_count": 15,
     "metadata": {},
     "output_type": "execute_result"
    }
   ],
   "source": [
    "fuel_economy_combined"
   ]
  },
  {
   "cell_type": "code",
   "execution_count": 16,
   "id": "3f7a4e5b",
   "metadata": {},
   "outputs": [
    {
     "name": "stderr",
     "output_type": "stream",
     "text": [
      "No artists with labels found to put in legend.  Note that artists whose label start with an underscore are ignored when legend() is called with no argument.\n"
     ]
    },
    {
     "data": {
      "image/png": "[encoded data removed]",
      "text/plain": [
       "<Figure size 640x480 with 1 Axes>"
      ]
     },
     "metadata": {},
     "output_type": "display_data"
    }
   ],
   "source": [
    "plt.plot(fuel_economy_combined)\n",
    "plt.xticks(rotation=45)\n",
    "plt.legend();\n",
    "plt.show()"
   ]
  },
  {
   "cell_type": "code",
   "execution_count": 17,
   "id": "5a1cb81a",
   "metadata": {},
   "outputs": [
    {
     "data": {
      "image/png": "[encoded data removed]",
      "text/plain": [
       "<Figure size 640x480 with 1 Axes>"
      ]
     },
     "metadata": {},
     "output_type": "display_data"
    }
   ],
   "source": [
    "plt.bar(fuel_economy_combined.index,fuel_economy_combined['cmb_mpg08'],width=0.4,label='Fuel economy 2008')\n",
    "plt.bar(fuel_economy_combined.index,fuel_economy_combined['cmb_mpg18'],width=0.4,align='edge',label='Fuel economy 2018')\n",
    "plt.xticks(rotation=45)\n",
    "plt.legend();\n",
    "plt.show()\n"
   ]
  },
  {
   "cell_type": "markdown",
   "id": "0f9163e8",
   "metadata": {},
   "source": [
    "\n",
    "# Q3.  Is there any change in characteristics of SmartWay Vehicles ?"
   ]
  },
  {
   "cell_type": "code",
   "execution_count": 18,
   "id": "83260d7f",
   "metadata": {},
   "outputs": [
    {
     "data": {
      "text/plain": [
       "['no', 'yes']"
      ]
     },
     "execution_count": 18,
     "metadata": {},
     "output_type": "execute_result"
    }
   ],
   "source": [
    "list(clean08['smartway'].unique())"
   ]
  },
  {
   "cell_type": "code",
   "execution_count": 19,
   "id": "0df9e358",
   "metadata": {},
   "outputs": [
    {
     "data": {
      "text/plain": [
       "['No', 'Yes', 'Elite']"
      ]
     },
     "execution_count": 19,
     "metadata": {},
     "output_type": "execute_result"
    }
   ],
   "source": [
    "list(clean18['smartway'].unique())"
   ]
  },
  {
   "cell_type": "markdown",
   "id": "502a4216",
   "metadata": {},
   "source": [
    "Yes, there is change in characteristics of smartway vehicle"
   ]
  },
  {
   "cell_type": "markdown",
   "id": "4769a094",
   "metadata": {},
   "source": [
    "# Q4. Which all features are associated with better fuel economy?"
   ]
  },
  {
   "cell_type": "code",
   "execution_count": 21,
   "id": "4c2922d4",
   "metadata": {},
   "outputs": [
    {
     "data": {
      "text/html": [
       "<div>\n",
       "<style scoped>\n",
       "    .dataframe tbody tr th:only-of-type {\n",
       "        vertical-align: middle;\n",
       "    }\n",
       "\n",
       "    .dataframe tbody tr th {\n",
       "        vertical-align: top;\n",
       "    }\n",
       "\n",
       "    .dataframe thead th {\n",
       "        text-align: right;\n",
       "    }\n",
       "</style>\n",
       "<table border=\"1\" class=\"dataframe\">\n",
       "  <thead>\n",
       "    <tr style=\"text-align: right;\">\n",
       "      <th></th>\n",
       "      <th>displ</th>\n",
       "      <th>cyl</th>\n",
       "      <th>cmb_mpg08</th>\n",
       "    </tr>\n",
       "  </thead>\n",
       "  <tbody>\n",
       "    <tr>\n",
       "      <th>displ</th>\n",
       "      <td>1.000000</td>\n",
       "      <td>0.899304</td>\n",
       "      <td>-0.818799</td>\n",
       "    </tr>\n",
       "    <tr>\n",
       "      <th>cyl</th>\n",
       "      <td>0.899304</td>\n",
       "      <td>1.000000</td>\n",
       "      <td>-0.770538</td>\n",
       "    </tr>\n",
       "    <tr>\n",
       "      <th>cmb_mpg08</th>\n",
       "      <td>-0.818799</td>\n",
       "      <td>-0.770538</td>\n",
       "      <td>1.000000</td>\n",
       "    </tr>\n",
       "  </tbody>\n",
       "</table>\n",
       "</div>"
      ],
      "text/plain": [
       "              displ       cyl  cmb_mpg08\n",
       "displ      1.000000  0.899304  -0.818799\n",
       "cyl        0.899304  1.000000  -0.770538\n",
       "cmb_mpg08 -0.818799 -0.770538   1.000000"
      ]
     },
     "execution_count": 21,
     "metadata": {},
     "output_type": "execute_result"
    }
   ],
   "source": [
    "influential_featurea=['displ','cyl','cmb_mpg08']\n",
    "clean08[influential_featurea].corr()"
   ]
  },
  {
   "cell_type": "code",
   "execution_count": 22,
   "id": "7a860cca",
   "metadata": {},
   "outputs": [
    {
     "data": {
      "text/plain": [
       "<Axes: >"
      ]
     },
     "execution_count": 22,
     "metadata": {},
     "output_type": "execute_result"
    },
    {
     "data": {
      "image/png": "[encoded data removed]",
      "text/plain": [
       "<Figure size 640x480 with 2 Axes>"
      ]
     },
     "metadata": {},
     "output_type": "display_data"
    }
   ],
   "source": [
    "sns.heatmap(clean08[influential_featurea].corr(),annot=True)"
   ]
  },
  {
   "cell_type": "markdown",
   "id": "e681078e",
   "metadata": {},
   "source": [
    "# Q5. How much improvement is there in miles/gallon or mpg? Also, which vehicle has improved the most?"
   ]
  },
  {
   "cell_type": "code",
   "execution_count": 26,
   "id": "95904e7d",
   "metadata": {},
   "outputs": [],
   "source": [
    "\n",
    "fuel_economy_combined.drop(fuel_economy_combined[(fuel_economy_combined.cmb_mpg18 ==0) | (fuel_economy_combined.cmb_mpg08 ==0)].index,inplace=True)"
   ]
  },
  {
   "cell_type": "code",
   "execution_count": 27,
   "id": "272937af",
   "metadata": {},
   "outputs": [],
   "source": [
    "fuel_economy_combined[\"Difference in milage\"]=fuel_economy_combined['cmb_mpg18']-fuel_economy_combined['cmb_mpg08']"
   ]
  },
  {
   "cell_type": "code",
   "execution_count": 28,
   "id": "2d912ecb",
   "metadata": {},
   "outputs": [
    {
     "data": {
      "text/plain": [
       "veh_class\n",
       "large car        4.900000\n",
       "midsize car      6.282609\n",
       "minivan          1.682353\n",
       "pickup           2.312635\n",
       "small car        4.315948\n",
       "station wagon    5.162745\n",
       "Name: Difference in milage, dtype: float64"
      ]
     },
     "execution_count": 28,
     "metadata": {},
     "output_type": "execute_result"
    }
   ],
   "source": [
    "fuel_economy_combined[\"Difference in milage\"]"
   ]
  },
  {
   "cell_type": "code",
   "execution_count": 29,
   "id": "cac02299",
   "metadata": {},
   "outputs": [
    {
     "data": {
      "image/png": "[encoded data removed]",
      "text/plain": [
       "<Figure size 640x480 with 1 Axes>"
      ]
     },
     "metadata": {},
     "output_type": "display_data"
    }
   ],
   "source": [
    "plt.bar(fuel_economy_combined.index,fuel_economy_combined['Difference in milage'],width=0.4,label='Difference in fuel economy')\n",
    "plt.xticks(rotation=45)\n",
    "plt.legend();\n",
    "plt.show()\n"
   ]
  },
  {
   "cell_type": "code",
   "execution_count": 34,
   "id": "bbc5b06c",
   "metadata": {},
   "outputs": [
    {
     "data": {
      "text/html": [
       "<div>\n",
       "<style scoped>\n",
       "    .dataframe tbody tr th:only-of-type {\n",
       "        vertical-align: middle;\n",
       "    }\n",
       "\n",
       "    .dataframe tbody tr th {\n",
       "        vertical-align: top;\n",
       "    }\n",
       "\n",
       "    .dataframe thead th {\n",
       "        text-align: right;\n",
       "    }\n",
       "</style>\n",
       "<table border=\"1\" class=\"dataframe\">\n",
       "  <thead>\n",
       "    <tr style=\"text-align: right;\">\n",
       "      <th></th>\n",
       "      <th>cmb_mpg08</th>\n",
       "      <th>cmb_mpg18</th>\n",
       "      <th>Difference in milage</th>\n",
       "    </tr>\n",
       "    <tr>\n",
       "      <th>veh_class</th>\n",
       "      <th></th>\n",
       "      <th></th>\n",
       "      <th></th>\n",
       "    </tr>\n",
       "  </thead>\n",
       "  <tbody>\n",
       "    <tr>\n",
       "      <th>midsize car</th>\n",
       "      <td>21.601449</td>\n",
       "      <td>27.884058</td>\n",
       "      <td>6.282609</td>\n",
       "    </tr>\n",
       "  </tbody>\n",
       "</table>\n",
       "</div>"
      ],
      "text/plain": [
       "             cmb_mpg08  cmb_mpg18  Difference in milage\n",
       "veh_class                                              \n",
       "midsize car  21.601449  27.884058              6.282609"
      ]
     },
     "execution_count": 34,
     "metadata": {},
     "output_type": "execute_result"
    }
   ],
   "source": [
    "fuel_economy_combined[fuel_economy_combined['Difference in milage']==fuel_economy_combined[\"Difference in milage\"].max()]"
   ]
  },
  {
   "cell_type": "code",
   "execution_count": null,
   "id": "ca378360",
   "metadata": {},
   "outputs": [],
   "source": []
  }
 ],
 "metadata": {
  "kernelspec": {
   "display_name": "Python 3 (ipykernel)",
   "language": "python",
   "name": "python3"
  },
  "language_info": {
   "codemirror_mode": {
    "name": "ipython",
    "version": 3
   },
   "file_extension": ".py",
   "mimetype": "text/x-python",
   "name": "python",
   "nbconvert_exporter": "python",
   "pygments_lexer": "ipython3",
   "version": "3.11.4"
  }
 },
 "nbformat": 4,
 "nbformat_minor": 5
}
