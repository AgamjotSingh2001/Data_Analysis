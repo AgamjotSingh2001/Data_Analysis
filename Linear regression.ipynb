{
 "cells": [
  {
   "cell_type": "code",
   "execution_count": 1,
   "id": "5262b12d",
   "metadata": {},
   "outputs": [
    {
     "data": {
      "text/plain": [
       "'\\nOutput interpretation \\nvalue of intercept is 4.3345, which shows that if we keep the money spent on TV, Radio, and Newspaper for advertisment as 0, the estimated average sales will be 4.3345\\nA single rupee increase onthe money spent on TV for advertisement increase sell by 0.038. The money spent on Radio for advertisement increase sales by 0.11 and the money spent on Newspaper for advertisement increase sales by 0.0062\\n'"
      ]
     },
     "execution_count": 1,
     "metadata": {},
     "output_type": "execute_result"
    }
   ],
   "source": [
    "'''\n",
    "Output interpretation \n",
    "value of intercept is 4.3345, which shows that if we keep the money spent on TV, Radio, and Newspaper for advertisment as 0, the estimated average sales will be 4.3345\n",
    "A single rupee increase onthe money spent on TV for advertisement increase sell by 0.038. The money spent on Radio for advertisement increase sales by 0.11 and the money spent on Newspaper for advertisement increase sales by 0.0062\n",
    "'''"
   ]
  },
  {
   "cell_type": "code",
   "execution_count": 5,
   "id": "42054847",
   "metadata": {},
   "outputs": [],
   "source": [
    "import pandas as pd\n",
    "import numpy as np\n",
    "import matplotlib.pyplot as plt\n",
    "import seaborn as sns\n",
    "\n",
    "dataset = pd.read_csv('sales.csv')"
   ]
  },
  {
   "cell_type": "code",
   "execution_count": 6,
   "id": "4a5a2730",
   "metadata": {},
   "outputs": [],
   "source": [
    "#setting the value for X and y\n",
    "X = dataset[['tv','radio','newspaper']]\n",
    "y=dataset['sales']"
   ]
  },
  {
   "cell_type": "code",
   "execution_count": 10,
   "id": "25f8830c",
   "metadata": {},
   "outputs": [],
   "source": [
    "#splliting data into dataset\n",
    "from sklearn.model_selection import train_test_split\n",
    "X_train,X_test,y_train,y_test=train_test_split(X,y,test_size=0.3,random_state=100)"
   ]
  },
  {
   "cell_type": "code",
   "execution_count": 11,
   "id": "4bbd8df6",
   "metadata": {},
   "outputs": [
    {
     "data": {
      "text/html": [
       "<style>#sk-container-id-1 {color: black;}#sk-container-id-1 pre{padding: 0;}#sk-container-id-1 div.sk-toggleable {background-color: white;}#sk-container-id-1 label.sk-toggleable__label {cursor: pointer;display: block;width: 100%;margin-bottom: 0;padding: 0.3em;box-sizing: border-box;text-align: center;}#sk-container-id-1 label.sk-toggleable__label-arrow:before {content: \"▸\";float: left;margin-right: 0.25em;color: #696969;}#sk-container-id-1 label.sk-toggleable__label-arrow:hover:before {color: black;}#sk-container-id-1 div.sk-estimator:hover label.sk-toggleable__label-arrow:before {color: black;}#sk-container-id-1 div.sk-toggleable__content {max-height: 0;max-width: 0;overflow: hidden;text-align: left;background-color: #f0f8ff;}#sk-container-id-1 div.sk-toggleable__content pre {margin: 0.2em;color: black;border-radius: 0.25em;background-color: #f0f8ff;}#sk-container-id-1 input.sk-toggleable__control:checked~div.sk-toggleable__content {max-height: 200px;max-width: 100%;overflow: auto;}#sk-container-id-1 input.sk-toggleable__control:checked~label.sk-toggleable__label-arrow:before {content: \"▾\";}#sk-container-id-1 div.sk-estimator input.sk-toggleable__control:checked~label.sk-toggleable__label {background-color: #d4ebff;}#sk-container-id-1 div.sk-label input.sk-toggleable__control:checked~label.sk-toggleable__label {background-color: #d4ebff;}#sk-container-id-1 input.sk-hidden--visually {border: 0;clip: rect(1px 1px 1px 1px);clip: rect(1px, 1px, 1px, 1px);height: 1px;margin: -1px;overflow: hidden;padding: 0;position: absolute;width: 1px;}#sk-container-id-1 div.sk-estimator {font-family: monospace;background-color: #f0f8ff;border: 1px dotted black;border-radius: 0.25em;box-sizing: border-box;margin-bottom: 0.5em;}#sk-container-id-1 div.sk-estimator:hover {background-color: #d4ebff;}#sk-container-id-1 div.sk-parallel-item::after {content: \"\";width: 100%;border-bottom: 1px solid gray;flex-grow: 1;}#sk-container-id-1 div.sk-label:hover label.sk-toggleable__label {background-color: #d4ebff;}#sk-container-id-1 div.sk-serial::before {content: \"\";position: absolute;border-left: 1px solid gray;box-sizing: border-box;top: 0;bottom: 0;left: 50%;z-index: 0;}#sk-container-id-1 div.sk-serial {display: flex;flex-direction: column;align-items: center;background-color: white;padding-right: 0.2em;padding-left: 0.2em;position: relative;}#sk-container-id-1 div.sk-item {position: relative;z-index: 1;}#sk-container-id-1 div.sk-parallel {display: flex;align-items: stretch;justify-content: center;background-color: white;position: relative;}#sk-container-id-1 div.sk-item::before, #sk-container-id-1 div.sk-parallel-item::before {content: \"\";position: absolute;border-left: 1px solid gray;box-sizing: border-box;top: 0;bottom: 0;left: 50%;z-index: -1;}#sk-container-id-1 div.sk-parallel-item {display: flex;flex-direction: column;z-index: 1;position: relative;background-color: white;}#sk-container-id-1 div.sk-parallel-item:first-child::after {align-self: flex-end;width: 50%;}#sk-container-id-1 div.sk-parallel-item:last-child::after {align-self: flex-start;width: 50%;}#sk-container-id-1 div.sk-parallel-item:only-child::after {width: 0;}#sk-container-id-1 div.sk-dashed-wrapped {border: 1px dashed gray;margin: 0 0.4em 0.5em 0.4em;box-sizing: border-box;padding-bottom: 0.4em;background-color: white;}#sk-container-id-1 div.sk-label label {font-family: monospace;font-weight: bold;display: inline-block;line-height: 1.2em;}#sk-container-id-1 div.sk-label-container {text-align: center;}#sk-container-id-1 div.sk-container {/* jupyter's `normalize.less` sets `[hidden] { display: none; }` but bootstrap.min.css set `[hidden] { display: none !important; }` so we also need the `!important` here to be able to override the default hidden behavior on the sphinx rendered scikit-learn.org. See: https://github.com/scikit-learn/scikit-learn/issues/21755 */display: inline-block !important;position: relative;}#sk-container-id-1 div.sk-text-repr-fallback {display: none;}</style><div id=\"sk-container-id-1\" class=\"sk-top-container\"><div class=\"sk-text-repr-fallback\"><pre>LinearRegression()</pre><b>In a Jupyter environment, please rerun this cell to show the HTML representation or trust the notebook. <br />On GitHub, the HTML representation is unable to render, please try loading this page with nbviewer.org.</b></div><div class=\"sk-container\" hidden><div class=\"sk-item\"><div class=\"sk-estimator sk-toggleable\"><input class=\"sk-toggleable__control sk-hidden--visually\" id=\"sk-estimator-id-1\" type=\"checkbox\" checked><label for=\"sk-estimator-id-1\" class=\"sk-toggleable__label sk-toggleable__label-arrow\">LinearRegression</label><div class=\"sk-toggleable__content\"><pre>LinearRegression()</pre></div></div></div></div></div>"
      ],
      "text/plain": [
       "LinearRegression()"
      ]
     },
     "execution_count": 11,
     "metadata": {},
     "output_type": "execute_result"
    }
   ],
   "source": [
    "#Fitting the multiplt linear regression model\n",
    "from sklearn.linear_model import  LinearRegression\n",
    "mlr=LinearRegression()\n",
    "mlr.fit(X_train,y_train)"
   ]
  },
  {
   "cell_type": "code",
   "execution_count": 12,
   "id": "7207fbcf",
   "metadata": {},
   "outputs": [
    {
     "name": "stdout",
     "output_type": "stream",
     "text": [
      "Intercept 4.334595861728433\n",
      "coefficient : \n"
     ]
    }
   ],
   "source": [
    "#Intercept and coefficients\n",
    "print(\"Intercept\", mlr.intercept_)\n",
    "print(\"coefficient : \")"
   ]
  },
  {
   "cell_type": "code",
   "execution_count": 13,
   "id": "aa07412b",
   "metadata": {},
   "outputs": [
    {
     "data": {
      "text/plain": [
       "'\\nZip used to print the coefficients (slopes) of the linear regression model for each predictor variable names. This displays the coefficient in a more organized and interpretable format.\\nx: this represents the Data-frame x Theat contains the predictor variables (TV, radio, newspapre).\\n mir.coef_ : This is an attribute of the trained linear regression model mlr that contains the coefficients for each predictor variable. These coefficeints represent the change in target variable (Sales) for a one-unit change in each predictor variable while holding the other variable constant.\\n Their corresponding coefficients (from mlr.coef_) into pairs.\\n list(..): Wraps the pairs in a list, making it easier to print and view the coefficients.\\n'"
      ]
     },
     "execution_count": 13,
     "metadata": {},
     "output_type": "execute_result"
    }
   ],
   "source": [
    "'''\n",
    "Zip used to print the coefficients (slopes) of the linear regression model for each predictor variable names. This displays the coefficient in a more organized and interpretable format.\n",
    "x: this represents the Data-frame x Theat contains the predictor variables (TV, radio, newspapre).\n",
    " mir.coef_ : This is an attribute of the trained linear regression model mlr that contains the coefficients for each predictor variable. These coefficeints represent the change in target variable (Sales) for a one-unit change in each predictor variable while holding the other variable constant.\n",
    " Their corresponding coefficients (from mlr.coef_) into pairs.\n",
    " list(..): Wraps the pairs in a list, making it easier to print and view the coefficients.\n",
    "'''"
   ]
  },
  {
   "cell_type": "code",
   "execution_count": 15,
   "id": "c4ef28a1",
   "metadata": {},
   "outputs": [
    {
     "name": "stdout",
     "output_type": "stream",
     "text": [
      "[('tv', 0.053829108667250054), ('radio', 0.11001224388558062), ('newspaper', 0.0062899501461303525)]\n"
     ]
    }
   ],
   "source": [
    "print(list(zip(X,mlr.coef_)))"
   ]
  },
  {
   "cell_type": "code",
   "execution_count": 16,
   "id": "7b7973bd",
   "metadata": {},
   "outputs": [
    {
     "name": "stdout",
     "output_type": "stream",
     "text": [
      "Prediction of test set[ 9.35221067 20.96344625 16.48851064 20.10971005 21.67148354 16.16054424\n",
      " 13.5618056  15.39338129 20.81980757 21.00537077 12.29451311 20.70848608\n",
      "  8.17367308 16.82471534 10.48954832  9.99530649 16.34698901 14.5758119\n",
      " 17.23065133 12.56890735 18.55715915 12.12402775 20.43312609 17.78017811\n",
      " 16.73623408 21.60387629 20.13532087 10.82559967 19.12782848 14.84537816\n",
      " 13.13597397  9.07757918 12.07834143 16.62824427  8.41792841 14.0456697\n",
      "  9.92050209 14.26101605 16.76262961 17.17185467 18.88797595 15.50165469\n",
      " 15.78688377 16.86266686 13.03405813 10.47673934 10.6141644  20.85264977\n",
      " 10.1517568   6.88471443 17.88702583 18.16013938 12.55907083 16.28189561\n",
      " 18.98024679 11.33714913  5.91026916 10.06159509 17.62383031 13.19628335]:\n"
     ]
    }
   ],
   "source": [
    "#prediction of test set\n",
    "y_pred_mlr=mlr.predict(X_test)\n",
    "#Predict values\n",
    "print(\"Prediction of test set{}:\".format(y_pred_mlr))"
   ]
  },
  {
   "cell_type": "code",
   "execution_count": 17,
   "id": "8a69f900",
   "metadata": {},
   "outputs": [],
   "source": [
    "#Actual value and the predicted values\n",
    "mlr_diff=pd.DataFrame({'Actual value':y_test, 'Predicted value' : y_pred_mlr})"
   ]
  },
  {
   "cell_type": "code",
   "execution_count": 18,
   "id": "3a5a470e",
   "metadata": {},
   "outputs": [
    {
     "data": {
      "text/plain": [
       "\"\\nR_squred: R Square is the coefficient of determination. It tells us how many points fall on the regression line. The value of R square is 90.11, which indicated that 90.11% of the data fit the regression model.\\nMean Absolute error: Mean Absolute Error is the absolute difference between the acutal or true values and the predicted values. The lower the value, the better is the model's performance. A mean absolute error of 0 mean that your modek is a perfect predictor of the outputs. The mean abosulute error obtains for this particular model is 1.227, which is pretty good as it is cloes to 0.\\nMean Square Error: Mean Square Error is calculated by taking the average of the square of the dofference beteween the original and predicted value of the data. The lower the value, the better is the model's performance. The mean square error obtained for this particular model is 2.636, which is pretty ggod.\\nRoot Mean Square Error: Root Mean Square Error is the standard deviation of the error which occur when a prediction is made on a dataset. This is the same as Mean Sqaured Error, but the root pf the value is considered while determining the accuracy of the model. The lower the valaue, the better is the models's performance. The root mean square error obtained for this particular model is 1.623, which is pretty good.\\n\""
      ]
     },
     "execution_count": 18,
     "metadata": {},
     "output_type": "execute_result"
    }
   ],
   "source": [
    "#Model Evaluation\n",
    "'''\n",
    "R_squred: R Square is the coefficient of determination. It tells us how many points fall on the regression line. The value of R square is 90.11, which indicated that 90.11% of the data fit the regression model.\n",
    "Mean Absolute error: Mean Absolute Error is the absolute difference between the acutal or true values and the predicted values. The lower the value, the better is the model's performance. A mean absolute error of 0 mean that your modek is a perfect predictor of the outputs. The mean abosulute error obtains for this particular model is 1.227, which is pretty good as it is cloes to 0.\n",
    "Mean Square Error: Mean Square Error is calculated by taking the average of the square of the dofference beteween the original and predicted value of the data. The lower the value, the better is the model's performance. The mean square error obtained for this particular model is 2.636, which is pretty ggod.\n",
    "Root Mean Square Error: Root Mean Square Error is the standard deviation of the error which occur when a prediction is made on a dataset. This is the same as Mean Sqaured Error, but the root pf the value is considered while determining the accuracy of the model. The lower the valaue, the better is the models's performance. The root mean square error obtained for this particular model is 1.623, which is pretty good.\n",
    "'''"
   ]
  },
  {
   "cell_type": "code",
   "execution_count": 20,
   "id": "8c10f95a",
   "metadata": {},
   "outputs": [],
   "source": [
    "from sklearn import metrics\n"
   ]
  },
  {
   "cell_type": "code",
   "execution_count": 22,
   "id": "2615c4fe",
   "metadata": {},
   "outputs": [
    {
     "name": "stdout",
     "output_type": "stream",
     "text": [
      "R Sqared : 90.11\n",
      "Mean Absolute Error: 1.2278183566589411\n",
      "Mean Square Error: 2.6360765623280664\n",
      "Root Mean Square Error 1.6235998775338911\n"
     ]
    }
   ],
   "source": [
    "meanAbErr = metrics.mean_absolute_error(y_test,y_pred_mlr)\n",
    "meanSqErr = metrics.mean_squared_error(y_test,y_pred_mlr)\n",
    "rootMeanSqErr = np.sqrt(metrics.mean_squared_error(y_test,y_pred_mlr))\n",
    "print('R Sqared : {:.2f}'.format(mlr.score(X,y)*100))\n",
    "print('Mean Absolute Error:',meanAbErr)\n",
    "print('Mean Square Error:',meanSqErr)\n",
    "print('Root Mean Square Error',rootMeanSqErr)"
   ]
  },
  {
   "cell_type": "code",
   "execution_count": 23,
   "id": "44754078",
   "metadata": {},
   "outputs": [
    {
     "name": "stdout",
     "output_type": "stream",
     "text": [
      "126     6.6\n",
      "104    20.7\n",
      "99     17.2\n",
      "92     19.4\n",
      "111    21.8\n",
      "167    17.2\n",
      "116    12.2\n",
      "96     16.7\n",
      "52     22.6\n",
      "69     22.3\n",
      "164    11.9\n",
      "124    19.7\n",
      "182     8.7\n",
      "154    20.6\n",
      "125    10.6\n",
      "196    14.0\n",
      "194    17.3\n",
      "177    16.7\n",
      "163    18.0\n",
      "31     11.9\n",
      "11     17.4\n",
      "73     11.0\n",
      "15     22.4\n",
      "41     17.1\n",
      "97     20.5\n",
      "128    24.7\n",
      "133    19.6\n",
      "82     11.3\n",
      "139    20.7\n",
      "123    15.2\n",
      "83     13.6\n",
      "65     11.3\n",
      "151    11.6\n",
      "162    19.9\n",
      "170     8.4\n",
      "77     14.2\n",
      "32     13.2\n",
      "173    16.7\n",
      "174    16.5\n",
      "85     20.2\n",
      "168    17.1\n",
      "112    17.1\n",
      "171    17.5\n",
      "181    17.2\n",
      "7      13.2\n",
      "46     10.6\n",
      "75      8.7\n",
      "28     18.9\n",
      "29     10.5\n",
      "195     7.6\n",
      "40     16.6\n",
      "153    16.0\n",
      "115    12.6\n",
      "64     16.0\n",
      "59     18.4\n",
      "1      10.4\n",
      "192     5.9\n",
      "136     9.5\n",
      "152    16.6\n",
      "161    13.3\n",
      "Name: sales, dtype: float64\n"
     ]
    }
   ],
   "source": [
    "print(y_test)"
   ]
  },
  {
   "cell_type": "code",
   "execution_count": 24,
   "id": "0ccae51c",
   "metadata": {},
   "outputs": [
    {
     "data": {
      "image/png": "[encoded data removed]",
      "text/plain": [
       "<Figure size 800x600 with 1 Axes>"
      ]
     },
     "metadata": {},
     "output_type": "display_data"
    }
   ],
   "source": [
    "#plotting actual vs. Predicted values\n",
    "plt.figure(figsize=(8,6))\n",
    "plt.scatter(y_test,y_pred_mlr,color='blue')\n",
    "plt.xlabel(\"Acutal Values\")\n",
    "plt.ylabel(\"Predicted Values\")\n",
    "plt.title(\"Actual vs. Predicted Values (Multiple Linear Regression)\")\n",
    "plt.grid(True)\n",
    "plt.show()"
   ]
  },
  {
   "cell_type": "code",
   "execution_count": null,
   "id": "54f9360b",
   "metadata": {},
   "outputs": [],
   "source": []
  }
 ],
 "metadata": {
  "kernelspec": {
   "display_name": "Python 3 (ipykernel)",
   "language": "python",
   "name": "python3"
  },
  "language_info": {
   "codemirror_mode": {
    "name": "ipython",
    "version": 3
   },
   "file_extension": ".py",
   "mimetype": "text/x-python",
   "name": "python",
   "nbconvert_exporter": "python",
   "pygments_lexer": "ipython3",
   "version": "3.11.4"
  }
 },
 "nbformat": 4,
 "nbformat_minor": 5
}
