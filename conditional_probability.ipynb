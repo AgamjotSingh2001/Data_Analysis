{
 "cells": [
  {
   "cell_type": "code",
   "execution_count": 1,
   "id": "0a81e464",
   "metadata": {},
   "outputs": [],
   "source": [
    "import pandas as pd\n",
    "import matplotlib.pyplot as plt"
   ]
  },
  {
   "cell_type": "code",
   "execution_count": 2,
   "id": "9d3a10b2",
   "metadata": {},
   "outputs": [],
   "source": [
    "df=pd.DataFrame({'Gender':['male','female','male','female','male','female','female','male','female','male',],\n",
    "                'Age':[35,26,45,12,48,56,23,59,12,53]})"
   ]
  },
  {
   "cell_type": "code",
   "execution_count": 3,
   "id": "f3ebe3b1",
   "metadata": {},
   "outputs": [
    {
     "data": {
      "text/html": [
       "<div>\n",
       "<style scoped>\n",
       "    .dataframe tbody tr th:only-of-type {\n",
       "        vertical-align: middle;\n",
       "    }\n",
       "\n",
       "    .dataframe tbody tr th {\n",
       "        vertical-align: top;\n",
       "    }\n",
       "\n",
       "    .dataframe thead th {\n",
       "        text-align: right;\n",
       "    }\n",
       "</style>\n",
       "<table border=\"1\" class=\"dataframe\">\n",
       "  <thead>\n",
       "    <tr style=\"text-align: right;\">\n",
       "      <th></th>\n",
       "      <th>Gender</th>\n",
       "      <th>Age</th>\n",
       "    </tr>\n",
       "  </thead>\n",
       "  <tbody>\n",
       "    <tr>\n",
       "      <th>0</th>\n",
       "      <td>male</td>\n",
       "      <td>35</td>\n",
       "    </tr>\n",
       "    <tr>\n",
       "      <th>1</th>\n",
       "      <td>female</td>\n",
       "      <td>26</td>\n",
       "    </tr>\n",
       "    <tr>\n",
       "      <th>2</th>\n",
       "      <td>male</td>\n",
       "      <td>45</td>\n",
       "    </tr>\n",
       "    <tr>\n",
       "      <th>3</th>\n",
       "      <td>female</td>\n",
       "      <td>12</td>\n",
       "    </tr>\n",
       "    <tr>\n",
       "      <th>4</th>\n",
       "      <td>male</td>\n",
       "      <td>48</td>\n",
       "    </tr>\n",
       "    <tr>\n",
       "      <th>5</th>\n",
       "      <td>female</td>\n",
       "      <td>56</td>\n",
       "    </tr>\n",
       "    <tr>\n",
       "      <th>6</th>\n",
       "      <td>female</td>\n",
       "      <td>23</td>\n",
       "    </tr>\n",
       "    <tr>\n",
       "      <th>7</th>\n",
       "      <td>male</td>\n",
       "      <td>59</td>\n",
       "    </tr>\n",
       "    <tr>\n",
       "      <th>8</th>\n",
       "      <td>female</td>\n",
       "      <td>12</td>\n",
       "    </tr>\n",
       "    <tr>\n",
       "      <th>9</th>\n",
       "      <td>male</td>\n",
       "      <td>53</td>\n",
       "    </tr>\n",
       "  </tbody>\n",
       "</table>\n",
       "</div>"
      ],
      "text/plain": [
       "   Gender  Age\n",
       "0    male   35\n",
       "1  female   26\n",
       "2    male   45\n",
       "3  female   12\n",
       "4    male   48\n",
       "5  female   56\n",
       "6  female   23\n",
       "7    male   59\n",
       "8  female   12\n",
       "9    male   53"
      ]
     },
     "execution_count": 3,
     "metadata": {},
     "output_type": "execute_result"
    }
   ],
   "source": [
    "df\n"
   ]
  },
  {
   "cell_type": "markdown",
   "id": "ec8bf767",
   "metadata": {},
   "source": [
    "# P(A and B)"
   ]
  },
  {
   "cell_type": "code",
   "execution_count": 4,
   "id": "e2566765",
   "metadata": {},
   "outputs": [],
   "source": [
    "p_a_and_b=len(df[(df['Gender']==\"female\")& (df['Age']>30)])/len(df)"
   ]
  },
  {
   "cell_type": "markdown",
   "id": "cf860254",
   "metadata": {},
   "source": [
    "# p(B)"
   ]
  },
  {
   "cell_type": "code",
   "execution_count": 5,
   "id": "8f2fab7a",
   "metadata": {},
   "outputs": [
    {
     "data": {
      "text/plain": [
       "0.5"
      ]
     },
     "execution_count": 5,
     "metadata": {},
     "output_type": "execute_result"
    }
   ],
   "source": [
    "p_b=len(df[df['Gender']==\"female\"])/len(df)\n",
    "p_b"
   ]
  },
  {
   "cell_type": "markdown",
   "id": "628803bd",
   "metadata": {},
   "source": [
    "# p(a\\B)"
   ]
  },
  {
   "cell_type": "code",
   "execution_count": 6,
   "id": "5e223128",
   "metadata": {},
   "outputs": [],
   "source": [
    "p_a_given_b=p_a_and_b/p_b"
   ]
  },
  {
   "cell_type": "code",
   "execution_count": 7,
   "id": "b39e6250",
   "metadata": {},
   "outputs": [
    {
     "data": {
      "text/plain": [
       "0.2"
      ]
     },
     "execution_count": 7,
     "metadata": {},
     "output_type": "execute_result"
    }
   ],
   "source": [
    "p_a_given_b"
   ]
  },
  {
   "cell_type": "code",
   "execution_count": 8,
   "id": "c2e953a7",
   "metadata": {},
   "outputs": [],
   "source": [
    "grouped_df=df.groupby('Gender')"
   ]
  },
  {
   "cell_type": "code",
   "execution_count": 9,
   "id": "7148bb69",
   "metadata": {},
   "outputs": [
    {
     "data": {
      "text/plain": [
       "Gender\n",
       "female    1\n",
       "male      5\n",
       "Name: Age, dtype: int64"
      ]
     },
     "execution_count": 9,
     "metadata": {},
     "output_type": "execute_result"
    }
   ],
   "source": [
    "over_30_count=grouped_df['Age'].apply(lambda x:(x>30).sum())\n",
    "over_30_count"
   ]
  },
  {
   "cell_type": "code",
   "execution_count": 10,
   "id": "e74d71b5",
   "metadata": {},
   "outputs": [],
   "source": [
    "total_count=grouped_df['Age'].count()"
   ]
  },
  {
   "cell_type": "code",
   "execution_count": 11,
   "id": "a5ec324c",
   "metadata": {},
   "outputs": [],
   "source": [
    "conditional_probability=over_30_count/total_count"
   ]
  },
  {
   "cell_type": "code",
   "execution_count": 12,
   "id": "363938c3",
   "metadata": {},
   "outputs": [
    {
     "data": {
      "text/plain": [
       "<BarContainer object of 2 artists>"
      ]
     },
     "execution_count": 12,
     "metadata": {},
     "output_type": "execute_result"
    },
    {
     "data": {
      "image/png": "[encoded data removed]",
      "text/plain": [
       "<Figure size 640x480 with 1 Axes>"
      ]
     },
     "metadata": {},
     "output_type": "display_data"
    }
   ],
   "source": [
    "plt.bar(conditional_probability.index,conditional_probability)"
   ]
  },
  {
   "cell_type": "code",
   "execution_count": 13,
   "id": "43a8b997",
   "metadata": {},
   "outputs": [
    {
     "data": {
      "image/png": "[encoded data removed]",
      "text/plain": [
       "<Figure size 640x480 with 1 Axes>"
      ]
     },
     "metadata": {},
     "output_type": "display_data"
    }
   ],
   "source": [
    "plt.bar(conditional_probability.index,conditional_probability)\n",
    "plt.xlabel('Gender')\n",
    "plt.ylabel('Probability')\n",
    "plt.title(\"probability of beinfg over 30\")\n",
    "plt.show()"
   ]
  },
  {
   "cell_type": "code",
   "execution_count": 14,
   "id": "7f024413",
   "metadata": {},
   "outputs": [],
   "source": [
    "p_a_and_b=len(df[(df['Gender']==\"female\")& (df['Age']>30)])/len(df)"
   ]
  },
  {
   "cell_type": "code",
   "execution_count": 15,
   "id": "6c8e6196",
   "metadata": {},
   "outputs": [
    {
     "data": {
      "text/plain": [
       "0.6"
      ]
     },
     "execution_count": 15,
     "metadata": {},
     "output_type": "execute_result"
    }
   ],
   "source": [
    "p_b=len(df[df['Age']>30])/len(df)\n",
    "p_b"
   ]
  },
  {
   "cell_type": "code",
   "execution_count": 16,
   "id": "71cff23a",
   "metadata": {},
   "outputs": [
    {
     "data": {
      "text/plain": [
       "0.16666666666666669"
      ]
     },
     "execution_count": 16,
     "metadata": {},
     "output_type": "execute_result"
    }
   ],
   "source": [
    "p_a_given_b=p_a_and_b/p_b\n",
    "p_a_given_b"
   ]
  },
  {
   "cell_type": "code",
   "execution_count": 17,
   "id": "795ad25c",
   "metadata": {},
   "outputs": [],
   "source": [
    "grouped_df=df.groupby('Age')"
   ]
  },
  {
   "cell_type": "code",
   "execution_count": 18,
   "id": "3b6a0dcb",
   "metadata": {},
   "outputs": [],
   "source": [
    "female_age=grouped_df['Gender'].apply(lambda x:(x==\"female\").sum())"
   ]
  },
  {
   "cell_type": "code",
   "execution_count": 19,
   "id": "c9953236",
   "metadata": {},
   "outputs": [],
   "source": [
    "total_count=grouped_df['Gender'].count()"
   ]
  },
  {
   "cell_type": "code",
   "execution_count": 20,
   "id": "289a01a5",
   "metadata": {},
   "outputs": [],
   "source": [
    "conditional_probability=female_age/total_count"
   ]
  },
  {
   "cell_type": "code",
   "execution_count": 21,
   "id": "16fbe79b",
   "metadata": {},
   "outputs": [
    {
     "data": {
      "text/plain": [
       "<BarContainer object of 9 artists>"
      ]
     },
     "execution_count": 21,
     "metadata": {},
     "output_type": "execute_result"
    },
    {
     "data": {
      "image/png": "[encoded data removed]",
      "text/plain": [
       "<Figure size 640x480 with 1 Axes>"
      ]
     },
     "metadata": {},
     "output_type": "display_data"
    }
   ],
   "source": [
    "plt.bar(conditional_probability.index,conditional_probability)\n"
   ]
  },
  {
   "cell_type": "code",
   "execution_count": 22,
   "id": "f0208604",
   "metadata": {},
   "outputs": [
    {
     "data": {
      "image/png": "[encoded data removed]",
      "text/plain": [
       "<Figure size 640x480 with 1 Axes>"
      ]
     },
     "metadata": {},
     "output_type": "display_data"
    }
   ],
   "source": [
    "plt.bar(conditional_probability.index,conditional_probability)\n",
    "plt.xlabel('age')\n",
    "plt.ylabel('Probability')\n",
    "plt.title(\"probability of female of ages\")\n",
    "plt.show()"
   ]
  },
  {
   "cell_type": "code",
   "execution_count": null,
   "id": "3da82733",
   "metadata": {},
   "outputs": [],
   "source": []
  }
 ],
 "metadata": {
  "kernelspec": {
   "display_name": "Python 3 (ipykernel)",
   "language": "python",
   "name": "python3"
  },
  "language_info": {
   "codemirror_mode": {
    "name": "ipython",
    "version": 3
   },
   "file_extension": ".py",
   "mimetype": "text/x-python",
   "name": "python",
   "nbconvert_exporter": "python",
   "pygments_lexer": "ipython3",
   "version": "3.11.4"
  }
 },
 "nbformat": 4,
 "nbformat_minor": 5
}
