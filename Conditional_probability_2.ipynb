{
 "cells": [
  {
   "cell_type": "code",
   "execution_count": 1,
   "id": "c061b1b7",
   "metadata": {},
   "outputs": [],
   "source": [
    "import pandas as pd\n",
    "from numpy import random"
   ]
  },
  {
   "cell_type": "code",
   "execution_count": 2,
   "id": "f80be2fc",
   "metadata": {},
   "outputs": [],
   "source": [
    "random.seed(0)"
   ]
  },
  {
   "cell_type": "code",
   "execution_count": 3,
   "id": "774ef5b8",
   "metadata": {},
   "outputs": [],
   "source": [
    "totals={20:0,30:0,40:0,50:0,60:0,70:0}"
   ]
  },
  {
   "cell_type": "code",
   "execution_count": 4,
   "id": "067edfff",
   "metadata": {},
   "outputs": [],
   "source": [
    "purchases={20:0,30:0,40:0,50:0,60:0,70:0}\n",
    "totalPurchases=0"
   ]
  },
  {
   "cell_type": "code",
   "execution_count": 5,
   "id": "1c69591d",
   "metadata": {},
   "outputs": [],
   "source": [
    "for _ in range(100000):\n",
    "    ageDecade=random.choice([20,30,40,50,60,70])\n",
    "    purchaseProbability=float(ageDecade)/100.0\n",
    "    totals[ageDecade] += 1\n",
    "    if(random.random() < purchaseProbability):\n",
    "        totalPurchases += 1\n",
    "        purchases[ageDecade] +=1"
   ]
  },
  {
   "cell_type": "code",
   "execution_count": 6,
   "id": "8bb57c6b",
   "metadata": {},
   "outputs": [
    {
     "name": "stdout",
     "output_type": "stream",
     "text": [
      "{20: 16576, 30: 16619, 40: 16632, 50: 16805, 60: 16664, 70: 16704}\n",
      "{20: 3392, 30: 4974, 40: 6670, 50: 8319, 60: 9944, 70: 11713}\n",
      "45012\n"
     ]
    }
   ],
   "source": [
    "print(totals)\n",
    "print(purchases)\n",
    "print(totalPurchases)"
   ]
  },
  {
   "cell_type": "code",
   "execution_count": 8,
   "id": "05b99a5f",
   "metadata": {},
   "outputs": [
    {
     "name": "stdout",
     "output_type": "stream",
     "text": [
      "P(purchase|30s):0.29929598652145134\n"
     ]
    }
   ],
   "source": [
    "PEF=float(purchases[30])/float(totals[30])\n",
    "print(\"P(purchase|30s):\"+str(PEF))"
   ]
  },
  {
   "cell_type": "code",
   "execution_count": 9,
   "id": "4525f765",
   "metadata": {},
   "outputs": [
    {
     "name": "stdout",
     "output_type": "stream",
     "text": [
      "P(30s):0.16619\n"
     ]
    }
   ],
   "source": [
    "PF=float(totals[30])/100000.0\n",
    "print(\"P(30s):\"+str(PF))"
   ]
  },
  {
   "cell_type": "code",
   "execution_count": 14,
   "id": "3089bf65",
   "metadata": {},
   "outputs": [
    {
     "name": "stdout",
     "output_type": "stream",
     "text": [
      "P(purchase):0.45012\n"
     ]
    }
   ],
   "source": [
    "Pu=float(totalPurchases)/100000.0\n",
    "print(\"P(purchase):\"+str(Pu))"
   ]
  },
  {
   "cell_type": "code",
   "execution_count": 15,
   "id": "ea215de2",
   "metadata": {},
   "outputs": [
    {
     "name": "stdout",
     "output_type": "stream",
     "text": [
      "P(purchase|70s):0.7012092911877394\n"
     ]
    }
   ],
   "source": [
    "PEF=float(purchases[70])/float(totals[70])\n",
    "print(\"P(purchase|70s):\"+str(PEF))"
   ]
  },
  {
   "cell_type": "code",
   "execution_count": 16,
   "id": "37ca90f0",
   "metadata": {},
   "outputs": [
    {
     "name": "stdout",
     "output_type": "stream",
     "text": [
      "P(70s):0.16704\n"
     ]
    }
   ],
   "source": [
    "PF=float(totals[70])/100000.0\n",
    "print(\"P(70s):\"+str(PF))"
   ]
  },
  {
   "cell_type": "markdown",
   "id": "ef190aed",
   "metadata": {},
   "source": [
    "# Modify the above code such that the purchasse probability does not vary with age."
   ]
  },
  {
   "cell_type": "code",
   "execution_count": 20,
   "id": "3da8d8e5",
   "metadata": {},
   "outputs": [],
   "source": [
    "for _ in range(100000):\n",
    "    ageDecade=random.choice([20,30,40,50,60,70])\n",
    "    purchaseProbability=float(ageDecade)/100.0\n",
    "    totals[ageDecade] += 1\n",
    "    #if(random.random() < purchaseProbability):\n",
    "     #   totalPurchases += 1\n",
    "      #  purchases[ageDecade] +=1"
   ]
  },
  {
   "cell_type": "code",
   "execution_count": 25,
   "id": "e6c5ae1f",
   "metadata": {},
   "outputs": [
    {
     "name": "stdout",
     "output_type": "stream",
     "text": [
      "{20: 66990, 30: 66232, 40: 66901, 50: 66406, 60: 67142, 70: 66329}\n",
      "{20: 15180, 30: 16519, 40: 18488, 50: 19975, 60: 21777, 70: 23212}\n",
      "115151\n"
     ]
    }
   ],
   "source": [
    "print(totals)\n",
    "print(purchases)\n",
    "print(totalPurchases)"
   ]
  },
  {
   "cell_type": "code",
   "execution_count": 32,
   "id": "c11f75b3",
   "metadata": {},
   "outputs": [
    {
     "data": {
      "text/plain": [
       "0.5751752047311791"
      ]
     },
     "execution_count": 32,
     "metadata": {},
     "output_type": "execute_result"
    }
   ],
   "source": [
    "PEF=totals[30]/totalPurchases\n",
    "PEF"
   ]
  },
  {
   "cell_type": "code",
   "execution_count": null,
   "id": "e607e1d8",
   "metadata": {},
   "outputs": [],
   "source": []
  },
  {
   "cell_type": "code",
   "execution_count": null,
   "id": "38e1121e",
   "metadata": {},
   "outputs": [],
   "source": []
  },
  {
   "cell_type": "code",
   "execution_count": null,
   "id": "fbe4fa86",
   "metadata": {},
   "outputs": [],
   "source": []
  },
  {
   "cell_type": "code",
   "execution_count": 44,
   "id": "c098f801",
   "metadata": {},
   "outputs": [],
   "source": [
    "for _ in range(100000):\n",
    "    ageDecade=random.choice([20,30,40,50,60,70])\n",
    "    purchaseProbability=float(ageDecade)/100.0\n",
    "    totals[ageDecade] += 1\n",
    "    if(random.random() < 0.5):\n",
    "        totalPurchases += 1\n",
    "        purchases[ageDecade] +=1"
   ]
  },
  {
   "cell_type": "code",
   "execution_count": 45,
   "id": "c2ef18a2",
   "metadata": {},
   "outputs": [
    {
     "name": "stdout",
     "output_type": "stream",
     "text": [
      "{20: 117327, 30: 116110, 40: 117132, 50: 116380, 60: 116762, 70: 116289}\n",
      "{20: 50396, 30: 51337, 40: 53522, 50: 54885, 60: 56390, 70: 58177}\n",
      "324707\n"
     ]
    }
   ],
   "source": [
    "print(totals)\n",
    "print(purchases)\n",
    "print(totalPurchases)"
   ]
  },
  {
   "cell_type": "code",
   "execution_count": 47,
   "id": "81a5b392",
   "metadata": {},
   "outputs": [
    {
     "name": "stdout",
     "output_type": "stream",
     "text": [
      "P(30) =  0.3581351803318068\n"
     ]
    }
   ],
   "source": [
    "PEF=totals[70]/totalPurchases\n",
    "print(\"P(30) = \",PEF)"
   ]
  },
  {
   "cell_type": "code",
   "execution_count": 49,
   "id": "56616258",
   "metadata": {},
   "outputs": [
    {
     "data": {
      "text/plain": [
       "0.4421410731203169"
      ]
     },
     "execution_count": 49,
     "metadata": {},
     "output_type": "execute_result"
    }
   ],
   "source": [
    "PF=purchases[30]/totals[30]\n",
    "PF"
   ]
  },
  {
   "cell_type": "code",
   "execution_count": null,
   "id": "4621e328",
   "metadata": {},
   "outputs": [],
   "source": []
  }
 ],
 "metadata": {
  "kernelspec": {
   "display_name": "Python 3 (ipykernel)",
   "language": "python",
   "name": "python3"
  },
  "language_info": {
   "codemirror_mode": {
    "name": "ipython",
    "version": 3
   },
   "file_extension": ".py",
   "mimetype": "text/x-python",
   "name": "python",
   "nbconvert_exporter": "python",
   "pygments_lexer": "ipython3",
   "version": "3.11.4"
  }
 },
 "nbformat": 4,
 "nbformat_minor": 5
}
