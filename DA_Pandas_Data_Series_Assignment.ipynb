{
 "cells": [
  {
   "cell_type": "markdown",
   "id": "ca5f15a6",
   "metadata": {},
   "source": [
    "# 1. Write a Pandas program to create and display a one-dimensional array-like object containing an array of data using Pandas module."
   ]
  },
  {
   "cell_type": "code",
   "execution_count": 1,
   "id": "f650a360",
   "metadata": {},
   "outputs": [],
   "source": [
    "import numpy as np\n",
    "import pandas as pd"
   ]
  },
  {
   "cell_type": "code",
   "execution_count": 2,
   "id": "d860721b",
   "metadata": {},
   "outputs": [
    {
     "data": {
      "text/plain": [
       "0    1\n",
       "1    2\n",
       "2    3\n",
       "3    4\n",
       "dtype: int64"
      ]
     },
     "execution_count": 2,
     "metadata": {},
     "output_type": "execute_result"
    }
   ],
   "source": [
    "a=pd.Series([1,2,3,4])\n",
    "a"
   ]
  },
  {
   "cell_type": "markdown",
   "id": "6341330e",
   "metadata": {},
   "source": [
    "# 2. Write a Pandas program to convert a Panda module Series to Python list and it's type."
   ]
  },
  {
   "cell_type": "code",
   "execution_count": 3,
   "id": "50db0704",
   "metadata": {},
   "outputs": [
    {
     "data": {
      "text/plain": [
       "list"
      ]
     },
     "execution_count": 3,
     "metadata": {},
     "output_type": "execute_result"
    }
   ],
   "source": [
    "b=list(a)\n",
    "type(b)"
   ]
  },
  {
   "cell_type": "markdown",
   "id": "8f291bc4",
   "metadata": {},
   "source": [
    "# 3. Write a Pandas program to add, subtract, multiple and divide two Pandas\n",
    "Series.\n",
    "Sample Series: [2, 4, 6, 8, 10], [1, 3, 5, 7, 9]"
   ]
  },
  {
   "cell_type": "code",
   "execution_count": 4,
   "id": "e21285a1",
   "metadata": {},
   "outputs": [
    {
     "data": {
      "text/plain": [
       "0     3\n",
       "1     7\n",
       "2    11\n",
       "3    15\n",
       "4    19\n",
       "dtype: int64"
      ]
     },
     "execution_count": 4,
     "metadata": {},
     "output_type": "execute_result"
    }
   ],
   "source": [
    "a=pd.Series([2, 4, 6, 8, 10])\n",
    "b=pd.Series([1,3,5,7,9])\n",
    "c=a+b\n",
    "c"
   ]
  },
  {
   "cell_type": "code",
   "execution_count": 5,
   "id": "08b066a1",
   "metadata": {},
   "outputs": [
    {
     "data": {
      "text/plain": [
       "0    1\n",
       "1    1\n",
       "2    1\n",
       "3    1\n",
       "4    1\n",
       "dtype: int64"
      ]
     },
     "execution_count": 5,
     "metadata": {},
     "output_type": "execute_result"
    }
   ],
   "source": [
    "d=a-b\n",
    "d"
   ]
  },
  {
   "cell_type": "code",
   "execution_count": 6,
   "id": "310e6598",
   "metadata": {},
   "outputs": [
    {
     "data": {
      "text/plain": [
       "0     2\n",
       "1    12\n",
       "2    30\n",
       "3    56\n",
       "4    90\n",
       "dtype: int64"
      ]
     },
     "execution_count": 6,
     "metadata": {},
     "output_type": "execute_result"
    }
   ],
   "source": [
    "e=a*b\n",
    "e"
   ]
  },
  {
   "cell_type": "code",
   "execution_count": 7,
   "id": "ccad9284",
   "metadata": {},
   "outputs": [
    {
     "data": {
      "text/plain": [
       "0    2.000000\n",
       "1    1.333333\n",
       "2    1.200000\n",
       "3    1.142857\n",
       "4    1.111111\n",
       "dtype: float64"
      ]
     },
     "execution_count": 7,
     "metadata": {},
     "output_type": "execute_result"
    }
   ],
   "source": [
    "f=a/b\n",
    "f"
   ]
  },
  {
   "cell_type": "markdown",
   "id": "021380e8",
   "metadata": {},
   "source": [
    "4. Write a Pandas program to compare the elements of the two Pandas\n",
    "Series.\n",
    "Sample Series: [2, 4, 6, 8, 10], [1, 3, 5, 7, 10]"
   ]
  },
  {
   "cell_type": "code",
   "execution_count": 8,
   "id": "772b6de3",
   "metadata": {},
   "outputs": [
    {
     "data": {
      "text/plain": [
       "0    False\n",
       "1    False\n",
       "2    False\n",
       "3    False\n",
       "4     True\n",
       "dtype: bool"
      ]
     },
     "execution_count": 8,
     "metadata": {},
     "output_type": "execute_result"
    }
   ],
   "source": [
    "a=pd.Series([2, 4, 6, 8, 10])\n",
    "b=pd.Series([1,3,5,7,10])\n",
    "a==b"
   ]
  },
  {
   "cell_type": "markdown",
   "id": "0c9c4726",
   "metadata": {},
   "source": [
    "5. Write a Pandas program to convert a dictionary to a Pandas series."
   ]
  },
  {
   "cell_type": "code",
   "execution_count": 9,
   "id": "ae4190a3",
   "metadata": {},
   "outputs": [
    {
     "data": {
      "text/plain": [
       "a    100\n",
       "b    200\n",
       "c    300\n",
       "d    400\n",
       "e    800\n",
       "dtype: int64"
      ]
     },
     "execution_count": 9,
     "metadata": {},
     "output_type": "execute_result"
    }
   ],
   "source": [
    "d1={'a': 100, 'b': 200, 'c': 300, 'd': 400, 'e': 800}\n",
    "a=pd.Series(d1,index=d1)\n",
    "a"
   ]
  },
  {
   "cell_type": "markdown",
   "id": "ec3e870b",
   "metadata": {},
   "source": [
    "6. Write a Pandas program to convert a NumPy array to a Pandas series."
   ]
  },
  {
   "cell_type": "code",
   "execution_count": 10,
   "id": "3b9c5431",
   "metadata": {},
   "outputs": [
    {
     "data": {
      "text/plain": [
       "0    10\n",
       "1    20\n",
       "2    30\n",
       "3    40\n",
       "4    50\n",
       "dtype: int64"
      ]
     },
     "execution_count": 10,
     "metadata": {},
     "output_type": "execute_result"
    }
   ],
   "source": [
    "a=np.array([10, 20, 30, 40, 50])\n",
    "b=pd.Series(a)\n",
    "b"
   ]
  },
  {
   "cell_type": "markdown",
   "id": "0daefe8c",
   "metadata": {},
   "source": [
    "7. Write a Pandas program to change the data type of given a column or a\n",
    "Series."
   ]
  },
  {
   "cell_type": "code",
   "execution_count": 11,
   "id": "9ee2dc22",
   "metadata": {},
   "outputs": [
    {
     "name": "stdout",
     "output_type": "stream",
     "text": [
      "<class 'pandas.core.series.Series'>\n",
      "RangeIndex: 5 entries, 0 to 4\n",
      "Series name: None\n",
      "Non-Null Count  Dtype \n",
      "--------------  ----- \n",
      "5 non-null      object\n",
      "dtypes: object(1)\n",
      "memory usage: 172.0+ bytes\n"
     ]
    }
   ],
   "source": [
    "a=pd.Series([100,200,\"python\",300.12,400])\n",
    "a.info()"
   ]
  },
  {
   "cell_type": "code",
   "execution_count": 12,
   "id": "b1179946",
   "metadata": {},
   "outputs": [
    {
     "data": {
      "text/plain": [
       "0    100.00\n",
       "1    200.00\n",
       "2       NaN\n",
       "3    300.12\n",
       "4    400.00\n",
       "dtype: float64"
      ]
     },
     "execution_count": 12,
     "metadata": {},
     "output_type": "execute_result"
    }
   ],
   "source": [
    "pd.to_numeric(a,errors=\"coerce\")"
   ]
  },
  {
   "cell_type": "markdown",
   "id": "86b41b0d",
   "metadata": {},
   "source": [
    "8. Write a Pandas program to convert the first column of a DataFrame as a\n",
    "Series."
   ]
  },
  {
   "cell_type": "code",
   "execution_count": 13,
   "id": "24c6a877",
   "metadata": {},
   "outputs": [
    {
     "data": {
      "text/html": [
       "<div>\n",
       "<style scoped>\n",
       "    .dataframe tbody tr th:only-of-type {\n",
       "        vertical-align: middle;\n",
       "    }\n",
       "\n",
       "    .dataframe tbody tr th {\n",
       "        vertical-align: top;\n",
       "    }\n",
       "\n",
       "    .dataframe thead th {\n",
       "        text-align: right;\n",
       "    }\n",
       "</style>\n",
       "<table border=\"1\" class=\"dataframe\">\n",
       "  <thead>\n",
       "    <tr style=\"text-align: right;\">\n",
       "      <th></th>\n",
       "      <th>col1</th>\n",
       "      <th>col2</th>\n",
       "      <th>col3</th>\n",
       "    </tr>\n",
       "  </thead>\n",
       "  <tbody>\n",
       "    <tr>\n",
       "      <th>0</th>\n",
       "      <td>1</td>\n",
       "      <td>4</td>\n",
       "      <td>7</td>\n",
       "    </tr>\n",
       "    <tr>\n",
       "      <th>1</th>\n",
       "      <td>2</td>\n",
       "      <td>5</td>\n",
       "      <td>5</td>\n",
       "    </tr>\n",
       "    <tr>\n",
       "      <th>2</th>\n",
       "      <td>3</td>\n",
       "      <td>6</td>\n",
       "      <td>8</td>\n",
       "    </tr>\n",
       "    <tr>\n",
       "      <th>3</th>\n",
       "      <td>4</td>\n",
       "      <td>9</td>\n",
       "      <td>12</td>\n",
       "    </tr>\n",
       "    <tr>\n",
       "      <th>4</th>\n",
       "      <td>7</td>\n",
       "      <td>5</td>\n",
       "      <td>1</td>\n",
       "    </tr>\n",
       "    <tr>\n",
       "      <th>5</th>\n",
       "      <td>11</td>\n",
       "      <td>0</td>\n",
       "      <td>11</td>\n",
       "    </tr>\n",
       "  </tbody>\n",
       "</table>\n",
       "</div>"
      ],
      "text/plain": [
       "   col1  col2  col3\n",
       "0     1     4     7\n",
       "1     2     5     5\n",
       "2     3     6     8\n",
       "3     4     9    12\n",
       "4     7     5     1\n",
       "5    11     0    11"
      ]
     },
     "execution_count": 13,
     "metadata": {},
     "output_type": "execute_result"
    }
   ],
   "source": [
    "a=pd.DataFrame([[1,4,7],[2,5,5],[3,6,8],[4,9,12],[7,5,1],[11,0,11]],columns=[\"col1\",\"col2\",\"col3\"])\n",
    "a"
   ]
  },
  {
   "cell_type": "code",
   "execution_count": 14,
   "id": "8d752865",
   "metadata": {},
   "outputs": [
    {
     "data": {
      "text/plain": [
       "0     1\n",
       "1     2\n",
       "2     3\n",
       "3     4\n",
       "4     7\n",
       "5    11\n",
       "Name: col1, dtype: int64"
      ]
     },
     "execution_count": 14,
     "metadata": {},
     "output_type": "execute_result"
    }
   ],
   "source": [
    "d=a[\"col1\"]\n",
    "d"
   ]
  },
  {
   "cell_type": "code",
   "execution_count": 15,
   "id": "c2900d43",
   "metadata": {},
   "outputs": [
    {
     "name": "stdout",
     "output_type": "stream",
     "text": [
      "<class 'pandas.core.series.Series'>\n",
      "RangeIndex: 6 entries, 0 to 5\n",
      "Series name: col1\n",
      "Non-Null Count  Dtype\n",
      "--------------  -----\n",
      "6 non-null      int64\n",
      "dtypes: int64(1)\n",
      "memory usage: 180.0 bytes\n"
     ]
    }
   ],
   "source": [
    "d.info()"
   ]
  },
  {
   "cell_type": "markdown",
   "id": "cab7e504",
   "metadata": {},
   "source": [
    "9. Write a Pandas program to convert a given Series to an array."
   ]
  },
  {
   "cell_type": "code",
   "execution_count": 16,
   "id": "02a1b9f6",
   "metadata": {},
   "outputs": [
    {
     "data": {
      "text/plain": [
       "array([100, 200, 'python', 300.12, 400], dtype=object)"
      ]
     },
     "execution_count": 16,
     "metadata": {},
     "output_type": "execute_result"
    }
   ],
   "source": [
    "a=pd.Series([100,200,\"python\",300.12,400])\n",
    "b=a.to_numpy()\n",
    "b"
   ]
  },
  {
   "cell_type": "markdown",
   "id": "5fa509ef",
   "metadata": {},
   "source": [
    "10. Write a Pandas program to convert Series of lists to one Series."
   ]
  },
  {
   "cell_type": "code",
   "execution_count": 17,
   "id": "8ba9582c",
   "metadata": {},
   "outputs": [
    {
     "data": {
      "text/plain": [
       "0    [Red, Green, White]\n",
       "1           [Red, Black]\n",
       "2               [Yellow]\n",
       "dtype: object"
      ]
     },
     "execution_count": 17,
     "metadata": {},
     "output_type": "execute_result"
    }
   ],
   "source": [
    "a=pd.Series([[\"Red\",\"Green\", \"White\"],[\"Red\", \"Black\"],[\"Yellow\"]])\n",
    "a"
   ]
  },
  {
   "cell_type": "code",
   "execution_count": 18,
   "id": "9d1cfbce",
   "metadata": {},
   "outputs": [
    {
     "data": {
      "text/plain": [
       "0       Red\n",
       "1     Green\n",
       "2     White\n",
       "3       Red\n",
       "4     Black\n",
       "5    Yellow\n",
       "dtype: object"
      ]
     },
     "execution_count": 18,
     "metadata": {},
     "output_type": "execute_result"
    }
   ],
   "source": [
    "a=a.apply(pd.Series).stack().reset_index(drop=True)\n",
    "a"
   ]
  },
  {
   "cell_type": "markdown",
   "id": "132c392c",
   "metadata": {},
   "source": [
    "11. Write a Pandas program to sort a given Series."
   ]
  },
  {
   "cell_type": "code",
   "execution_count": 19,
   "id": "474325aa",
   "metadata": {},
   "outputs": [
    {
     "data": {
      "text/plain": [
       "0       100\n",
       "1       200\n",
       "3    300.12\n",
       "4       400\n",
       "2    python\n",
       "dtype: object"
      ]
     },
     "execution_count": 19,
     "metadata": {},
     "output_type": "execute_result"
    }
   ],
   "source": [
    "a=pd.Series([\"100\",\"200\",\"python\",\"300.12\",\"400\"])\n",
    "\n",
    "a.sort_values()\n"
   ]
  },
  {
   "cell_type": "markdown",
   "id": "e4b6a420",
   "metadata": {},
   "source": [
    "12. Write a Pandas program to add some data to an existing Series."
   ]
  },
  {
   "cell_type": "code",
   "execution_count": 20,
   "id": "30ddc59c",
   "metadata": {},
   "outputs": [
    {
     "data": {
      "text/plain": [
       "0       100\n",
       "1       200\n",
       "2    python\n",
       "3    300.12\n",
       "4       400\n",
       "0       500\n",
       "dtype: object"
      ]
     },
     "execution_count": 20,
     "metadata": {},
     "output_type": "execute_result"
    }
   ],
   "source": [
    "a=pd.Series([\"100\",\"200\",\"python\",\"300.12\",\"400\"])\n",
    "b=pd.Series([\"500\"])\n",
    "c=pd.concat([a,b])\n",
    "c\n"
   ]
  },
  {
   "cell_type": "markdown",
   "id": "b83177a7",
   "metadata": {},
   "source": [
    "# Q13. Write a Pandas program to create a subset of a given series based on value and condition."
   ]
  },
  {
   "cell_type": "code",
   "execution_count": 21,
   "id": "a0a99043",
   "metadata": {},
   "outputs": [
    {
     "name": "stdout",
     "output_type": "stream",
     "text": [
      "3\n"
     ]
    }
   ],
   "source": [
    "data=[1,2,3,4,5,6,7,8,9,0]\n",
    "series=pd.Series(data)\n",
    "print(series[2])"
   ]
  },
  {
   "cell_type": "code",
   "execution_count": 22,
   "id": "71afc8ec",
   "metadata": {},
   "outputs": [
    {
     "data": {
      "text/plain": [
       "2    3\n",
       "3    4\n",
       "4    5\n",
       "dtype: int64"
      ]
     },
     "execution_count": 22,
     "metadata": {},
     "output_type": "execute_result"
    }
   ],
   "source": [
    "series[(series>2) & (series<6)]"
   ]
  },
  {
   "cell_type": "markdown",
   "id": "e911ae38",
   "metadata": {},
   "source": [
    "# Q14. Write a Pandas program to change the order of index of a given series."
   ]
  },
  {
   "cell_type": "code",
   "execution_count": 23,
   "id": "5010129a",
   "metadata": {},
   "outputs": [
    {
     "data": {
      "text/plain": [
       "A    1\n",
       "B    2\n",
       "C    3\n",
       "D    4\n",
       "E    5\n",
       "dtype: int64"
      ]
     },
     "execution_count": 23,
     "metadata": {},
     "output_type": "execute_result"
    }
   ],
   "source": [
    "data={'A':1,'B':2,'C':3,'D':4,'E':5}\n",
    "series=pd.Series(data)\n",
    "series"
   ]
  },
  {
   "cell_type": "code",
   "execution_count": 24,
   "id": "43a86a22",
   "metadata": {},
   "outputs": [
    {
     "data": {
      "text/plain": [
       "B    2\n",
       "A    1\n",
       "C    3\n",
       "D    4\n",
       "E    5\n",
       "dtype: int64"
      ]
     },
     "execution_count": 24,
     "metadata": {},
     "output_type": "execute_result"
    }
   ],
   "source": [
    "series=series.reindex(['B','A','C','D','E'])\n",
    "series"
   ]
  },
  {
   "cell_type": "markdown",
   "id": "84a6934e",
   "metadata": {},
   "source": [
    "# Q15. Write a Pandas program to create the mean and standard deviation of the data of a given Series."
   ]
  },
  {
   "cell_type": "code",
   "execution_count": 25,
   "id": "b6399d60",
   "metadata": {},
   "outputs": [
    {
     "data": {
      "text/plain": [
       "5.5"
      ]
     },
     "execution_count": 25,
     "metadata": {},
     "output_type": "execute_result"
    }
   ],
   "source": [
    "data=[1,2,3,4,5,6,7,8,9,10]\n",
    "series=pd.Series(data)\n",
    "series.mean()"
   ]
  },
  {
   "cell_type": "code",
   "execution_count": 26,
   "id": "e044f18b",
   "metadata": {},
   "outputs": [
    {
     "data": {
      "text/plain": [
       "3.0276503540974917"
      ]
     },
     "execution_count": 26,
     "metadata": {},
     "output_type": "execute_result"
    }
   ],
   "source": [
    "series.std()"
   ]
  },
  {
   "cell_type": "markdown",
   "id": "d380c8c1",
   "metadata": {},
   "source": [
    "# Q16. Write a Pandas program to get the items of a given series not present in another given series."
   ]
  },
  {
   "cell_type": "code",
   "execution_count": 27,
   "id": "d3abc820",
   "metadata": {},
   "outputs": [],
   "source": [
    "data_1=[1,2,3,4,5]\n",
    "data_2=[2,4,6,8,10]\n",
    "series_1=pd.Series(data_1,index=[\"a\",\"b\",\"c\",\"d\",\"e\"])\n",
    "series_2=pd.Series(data_2,index=[\"a\",\"b\",\"c\",\"d\",\"e\"])"
   ]
  },
  {
   "cell_type": "code",
   "execution_count": 28,
   "id": "b9942ff2",
   "metadata": {},
   "outputs": [
    {
     "data": {
      "text/plain": [
       "[1, 3, 5]"
      ]
     },
     "execution_count": 28,
     "metadata": {},
     "output_type": "execute_result"
    }
   ],
   "source": [
    "series_3=[x for x in data_1 if x not in data_2]\n",
    "series_3"
   ]
  },
  {
   "cell_type": "markdown",
   "id": "e4f04a41",
   "metadata": {},
   "source": [
    "17. Write a Pandas program to get the items which are not common of two given series."
   ]
  },
  {
   "cell_type": "code",
   "execution_count": 29,
   "id": "3fa5609c",
   "metadata": {},
   "outputs": [
    {
     "name": "stdout",
     "output_type": "stream",
     "text": [
      "0    2\n",
      "1    4\n",
      "dtype: int64\n"
     ]
    },
    {
     "data": {
      "text/plain": [
       "0     1\n",
       "1     2\n",
       "2     3\n",
       "3     4\n",
       "4     5\n",
       "5     2\n",
       "6     4\n",
       "7     6\n",
       "8     8\n",
       "9    10\n",
       "dtype: int64"
      ]
     },
     "execution_count": 29,
     "metadata": {},
     "output_type": "execute_result"
    }
   ],
   "source": [
    "series_3=pd.Series([x for x in data_1 if x  in data_2])\n",
    "print(series_3)\n",
    "series_4=pd.concat([series_1,series_2],ignore_index=True)\n",
    "series_4"
   ]
  },
  {
   "cell_type": "code",
   "execution_count": 30,
   "id": "f48776da",
   "metadata": {},
   "outputs": [
    {
     "data": {
      "text/plain": [
       "0    2\n",
       "1    4\n",
       "dtype: int64"
      ]
     },
     "execution_count": 30,
     "metadata": {},
     "output_type": "execute_result"
    }
   ],
   "source": [
    "intersect=pd.Series(np.intersect1d(series_3,series_4))\n",
    "intersect"
   ]
  },
  {
   "cell_type": "code",
   "execution_count": 31,
   "id": "7749f75c",
   "metadata": {},
   "outputs": [
    {
     "data": {
      "text/plain": [
       "0     1\n",
       "2     3\n",
       "4     5\n",
       "7     6\n",
       "8     8\n",
       "9    10\n",
       "dtype: int64"
      ]
     },
     "execution_count": 31,
     "metadata": {},
     "output_type": "execute_result"
    }
   ],
   "source": [
    "notcommon=series_4[-series_4.isin(intersect)]\n",
    "notcommon"
   ]
  },
  {
   "cell_type": "markdown",
   "id": "f1bc6bf2",
   "metadata": {},
   "source": [
    "# 18. Write a Pandas program to compute the minimum, 25th percentile, median, 75th, and maximum of a given series."
   ]
  },
  {
   "cell_type": "code",
   "execution_count": 32,
   "id": "30c35ca8",
   "metadata": {},
   "outputs": [
    {
     "data": {
      "text/plain": [
       "[2.1759404057957292,\n",
       " 6.8946969284476225,\n",
       " 1.5365357213523416,\n",
       " 7.7025178092763475,\n",
       " 10.981333654872435,\n",
       " 5.558560453230106,\n",
       " 0.1793201047051094,\n",
       " 1.5127094431170778,\n",
       " 6.6225769627550415,\n",
       " 5.804070775013735,\n",
       " 7.694011189930064,\n",
       " 7.794951684906281,\n",
       " 7.836471450228741,\n",
       " 2.591492167321151,\n",
       " 3.470983924945597,\n",
       " 8.760500299634492,\n",
       " 0.8382179047742399,\n",
       " 5.078966245183002,\n",
       " 6.382203980495809,\n",
       " 10.26171769727778]"
      ]
     },
     "execution_count": 32,
     "metadata": {},
     "output_type": "execute_result"
    }
   ],
   "source": [
    "import random\n",
    "lst1=[]\n",
    "for i in range(20):\n",
    "    random_float=random.random()\n",
    "    random_int=random.randint(0,10)\n",
    "    random_number=random_float+random_int\n",
    "    lst1.append(random_number)\n",
    "lst1"
   ]
  },
  {
   "cell_type": "code",
   "execution_count": 33,
   "id": "ce04632f",
   "metadata": {},
   "outputs": [
    {
     "data": {
      "text/plain": [
       "0      2.175940\n",
       "1      6.894697\n",
       "2      1.536536\n",
       "3      7.702518\n",
       "4     10.981334\n",
       "5      5.558560\n",
       "6      0.179320\n",
       "7      1.512709\n",
       "8      6.622577\n",
       "9      5.804071\n",
       "10     7.694011\n",
       "11     7.794952\n",
       "12     7.836471\n",
       "13     2.591492\n",
       "14     3.470984\n",
       "15     8.760500\n",
       "16     0.838218\n",
       "17     5.078966\n",
       "18     6.382204\n",
       "19    10.261718\n",
       "dtype: float64"
      ]
     },
     "execution_count": 33,
     "metadata": {},
     "output_type": "execute_result"
    }
   ],
   "source": [
    "series_random=pd.Series(lst1)\n",
    "series_random"
   ]
  },
  {
   "cell_type": "code",
   "execution_count": 34,
   "id": "b7d2905a",
   "metadata": {},
   "outputs": [
    {
     "data": {
      "text/plain": [
       "10.981333654872435"
      ]
     },
     "execution_count": 34,
     "metadata": {},
     "output_type": "execute_result"
    }
   ],
   "source": [
    "maximum_number=series_random.max()\n",
    "maximum_number"
   ]
  },
  {
   "cell_type": "code",
   "execution_count": 35,
   "id": "293f9a1a",
   "metadata": {},
   "outputs": [
    {
     "data": {
      "text/plain": [
       "0.1793201047051094"
      ]
     },
     "execution_count": 35,
     "metadata": {},
     "output_type": "execute_result"
    }
   ],
   "source": [
    "minimum_number=series_random.min()\n",
    "minimum_number"
   ]
  },
  {
   "cell_type": "code",
   "execution_count": 36,
   "id": "8cc8ab13",
   "metadata": {},
   "outputs": [
    {
     "data": {
      "text/plain": [
       "6.093137377754772"
      ]
     },
     "execution_count": 36,
     "metadata": {},
     "output_type": "execute_result"
    }
   ],
   "source": [
    "median_number=series_random.median()\n",
    "median_number"
   ]
  },
  {
   "cell_type": "code",
   "execution_count": 37,
   "id": "7f7eb34a",
   "metadata": {},
   "outputs": [
    {
     "data": {
      "text/plain": [
       "2.4876042269397955"
      ]
     },
     "execution_count": 37,
     "metadata": {},
     "output_type": "execute_result"
    }
   ],
   "source": [
    "q1_percentile=series_random.quantile(.25)\n",
    "q1_percentile"
   ]
  },
  {
   "cell_type": "code",
   "execution_count": 38,
   "id": "94218edf",
   "metadata": {},
   "outputs": [
    {
     "data": {
      "text/plain": [
       "7.725626278183831"
      ]
     },
     "execution_count": 38,
     "metadata": {},
     "output_type": "execute_result"
    }
   ],
   "source": [
    "q3_percentile=series_random.quantile(.75)\n",
    "q3_percentile"
   ]
  },
  {
   "cell_type": "markdown",
   "id": "27537c81",
   "metadata": {},
   "source": [
    "# 19. Write a Pandas program to calculate the frequency counts of each unique value of a given series."
   ]
  },
  {
   "cell_type": "code",
   "execution_count": 39,
   "id": "ca965be8",
   "metadata": {},
   "outputs": [],
   "source": [
    "a=pd.Series([23,65,23,45,87,89,65,23,76,87])"
   ]
  },
  {
   "cell_type": "code",
   "execution_count": 40,
   "id": "c84022c3",
   "metadata": {},
   "outputs": [
    {
     "data": {
      "text/plain": [
       "23    3\n",
       "65    2\n",
       "87    2\n",
       "45    1\n",
       "89    1\n",
       "76    1\n",
       "dtype: int64"
      ]
     },
     "execution_count": 40,
     "metadata": {},
     "output_type": "execute_result"
    }
   ],
   "source": [
    "b=a.value_counts()\n",
    "b"
   ]
  },
  {
   "cell_type": "markdown",
   "id": "55ae79c5",
   "metadata": {},
   "source": [
    "# 20. Write a Pandas program to display most frequent value in a given series and replace everything else as 'Other' in the series."
   ]
  },
  {
   "cell_type": "code",
   "execution_count": 41,
   "id": "b69a4b1c",
   "metadata": {},
   "outputs": [
    {
     "data": {
      "text/plain": [
       "3"
      ]
     },
     "execution_count": 41,
     "metadata": {},
     "output_type": "execute_result"
    }
   ],
   "source": [
    "max=b.max()\n",
    "max"
   ]
  },
  {
   "cell_type": "code",
   "execution_count": 42,
   "id": "85b92986",
   "metadata": {},
   "outputs": [
    {
     "data": {
      "text/plain": [
       "23    3\n",
       "65    2\n",
       "87    2\n",
       "45    1\n",
       "89    1\n",
       "76    1\n",
       "dtype: int64"
      ]
     },
     "execution_count": 42,
     "metadata": {},
     "output_type": "execute_result"
    }
   ],
   "source": [
    "c=b[a.value_counts()!=a.value_counts().max]\n",
    "c\n"
   ]
  },
  {
   "cell_type": "code",
   "execution_count": 43,
   "id": "a43a780a",
   "metadata": {},
   "outputs": [],
   "source": [
    "#Pending"
   ]
  },
  {
   "cell_type": "markdown",
   "id": "a80cf83f",
   "metadata": {},
   "source": [
    "# Q21. Write a Pandas program to find the positions of numbers that are multiples of 5 of a given series."
   ]
  },
  {
   "cell_type": "code",
   "execution_count": 44,
   "id": "e00e6fd8",
   "metadata": {},
   "outputs": [
    {
     "data": {
      "text/plain": [
       "0    1\n",
       "1    9\n",
       "2    8\n",
       "3    6\n",
       "4    9\n",
       "5    7\n",
       "6    1\n",
       "7    1\n",
       "8    1\n",
       "dtype: int64"
      ]
     },
     "execution_count": 44,
     "metadata": {},
     "output_type": "execute_result"
    }
   ],
   "source": [
    "data=pd.Series([1,9,8,6,9,7,1,1,1])\n",
    "data"
   ]
  },
  {
   "cell_type": "code",
   "execution_count": 45,
   "id": "705b651c",
   "metadata": {},
   "outputs": [
    {
     "data": {
      "text/plain": [
       "Series([], dtype: int64)"
      ]
     },
     "execution_count": 45,
     "metadata": {},
     "output_type": "execute_result"
    }
   ],
   "source": [
    "data_multiple=data[data%5==0]\n",
    "data_multiple"
   ]
  },
  {
   "cell_type": "markdown",
   "id": "1d1efb6d",
   "metadata": {},
   "source": [
    "# Q22. Write a Pandas program to extract items at given positions of a given series."
   ]
  },
  {
   "cell_type": "code",
   "execution_count": 52,
   "id": "61471608",
   "metadata": {},
   "outputs": [
    {
     "data": {
      "text/plain": [
       "3"
      ]
     },
     "execution_count": 52,
     "metadata": {},
     "output_type": "execute_result"
    }
   ],
   "source": [
    "data=pd.Series(random.randint(0,50))\n",
    "data[0]"
   ]
  },
  {
   "cell_type": "markdown",
   "id": "217a859a",
   "metadata": {},
   "source": [
    "# Q23. Write a Pandas program to get the positions of items of a given series in another given series."
   ]
  },
  {
   "cell_type": "code",
   "execution_count": null,
   "id": "a78ffaff",
   "metadata": {},
   "outputs": [],
   "source": [
    "#Pending"
   ]
  },
  {
   "cell_type": "markdown",
   "id": "06ce9d6c",
   "metadata": {},
   "source": [
    "# Q24. Write a Pandas program convert the first and last character of each word to upper case in each word of a given series."
   ]
  },
  {
   "cell_type": "code",
   "execution_count": 56,
   "id": "78dc3245",
   "metadata": {},
   "outputs": [
    {
     "data": {
      "text/plain": [
       "0       PhP\n",
       "1    PythoN\n",
       "2      JavA\n",
       "3        C#\n",
       "dtype: object"
      ]
     },
     "execution_count": 56,
     "metadata": {},
     "output_type": "execute_result"
    }
   ],
   "source": [
    "series=pd.Series(['php','python','java','c#'])\n",
    "series_capital=series.map(lambda x:x[0].upper()+x[1:-1]+x[-1].upper())\n",
    "series_capital"
   ]
  },
  {
   "cell_type": "markdown",
   "id": "c0ff509a",
   "metadata": {},
   "source": [
    "# Q25. Write a Pandas program to calculate the number of characters in each word in a given series."
   ]
  },
  {
   "cell_type": "code",
   "execution_count": 58,
   "id": "17332818",
   "metadata": {},
   "outputs": [
    {
     "data": {
      "text/plain": [
       "0    3\n",
       "1    6\n",
       "2    4\n",
       "3    2\n",
       "dtype: int64"
      ]
     },
     "execution_count": 58,
     "metadata": {},
     "output_type": "execute_result"
    }
   ],
   "source": [
    "series=pd.Series(['php','python','java','c#'])\n",
    "series_world_count=series.map(lambda x:len(x))\n",
    "series_world_count"
   ]
  },
  {
   "cell_type": "markdown",
   "id": "a9e5fcca",
   "metadata": {},
   "source": [
    "# Q26. Write a Pandas program to compute difference of differences between consecutive numbers of a given series."
   ]
  },
  {
   "cell_type": "code",
   "execution_count": null,
   "id": "2fa342d1",
   "metadata": {},
   "outputs": [],
   "source": [
    "\n"
   ]
  }
 ],
 "metadata": {
  "kernelspec": {
   "display_name": "Python 3 (ipykernel)",
   "language": "python",
   "name": "python3"
  },
  "language_info": {
   "codemirror_mode": {
    "name": "ipython",
    "version": 3
   },
   "file_extension": ".py",
   "mimetype": "text/x-python",
   "name": "python",
   "nbconvert_exporter": "python",
   "pygments_lexer": "ipython3",
   "version": "3.11.4"
  }
 },
 "nbformat": 4,
 "nbformat_minor": 5
}
